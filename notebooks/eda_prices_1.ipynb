{
 "cells": [
  {
   "cell_type": "code",
   "execution_count": 240,
   "metadata": {},
   "outputs": [],
   "source": [
    "from pathlib import Path\n",
    "from collections import Counter\n",
    "from datetime import date\n",
    "\n",
    "import pandas as pd\n",
    "import numpy as np\n",
    "import matplotlib.pyplot as plt\n",
    "import statsmodels as sm\n",
    "from statsmodels.regression.linear_model import OLS\n",
    "from datetime import datetime\n",
    "import calendar"
   ]
  },
  {
   "cell_type": "code",
   "execution_count": 241,
   "metadata": {},
   "outputs": [],
   "source": [
    "DATA_PATH = Path.cwd().parent.joinpath('data', 'raw')"
   ]
  },
  {
   "cell_type": "code",
   "execution_count": 255,
   "metadata": {},
   "outputs": [],
   "source": [
    "consumer_staples = pd.read_csv(DATA_PATH.joinpath('sp500_consumer_staples.csv'),parse_dates = [\"Date\"])\n",
    "consumer_staples = consumer_staples.iloc[::-1]\n",
    "prices = pd.read_csv(DATA_PATH.joinpath('month_end_prices.csv'),parse_dates = [\"datadate\"])\n",
    "t_bill = pd.read_csv(DATA_PATH.joinpath('3_month_t_bill.csv'), parse_dates = [\"Date\"])\n",
    "t_bill = t_bill[::-1]"
   ]
  },
  {
   "cell_type": "code",
   "execution_count": 256,
   "metadata": {},
   "outputs": [],
   "source": [
    "consumer_staples.reset_index(drop = True, inplace = True)\n",
    "t_bill.reset_index(drop = True, inplace = True)"
   ]
  },
  {
   "cell_type": "code",
   "execution_count": 257,
   "metadata": {},
   "outputs": [],
   "source": [
    "consumer_staples[\"datadate\"] = [datetime.strptime(consumer_staples.Date[i],'%b %y') for i in range(len(consumer_staples.Date))]"
   ]
  },
  {
   "cell_type": "code",
   "execution_count": 258,
   "metadata": {},
   "outputs": [
    {
     "name": "stderr",
     "output_type": "stream",
     "text": [
      "/Users/siddharthkantamneni/anaconda3/lib/python3.7/site-packages/ipykernel_launcher.py:3: SettingWithCopyWarning: \n",
      "A value is trying to be set on a copy of a slice from a DataFrame\n",
      "\n",
      "See the caveats in the documentation: http://pandas.pydata.org/pandas-docs/stable/indexing.html#indexing-view-versus-copy\n",
      "  This is separate from the ipykernel package so we can avoid doing imports until\n"
     ]
    }
   ],
   "source": [
    "for i in range(len(consumer_staples.datadate)):\n",
    "    dayr = calendar.monthrange(consumer_staples.datadate[i].year,consumer_staples.datadate[i].month)[1]\n",
    "    consumer_staples[\"datadate\"][i] = consumer_staples.datadate[i].replace(day = dayr)"
   ]
  },
  {
   "cell_type": "code",
   "execution_count": 260,
   "metadata": {},
   "outputs": [
    {
     "name": "stderr",
     "output_type": "stream",
     "text": [
      "/Users/siddharthkantamneni/anaconda3/lib/python3.7/site-packages/ipykernel_launcher.py:4: SettingWithCopyWarning: \n",
      "A value is trying to be set on a copy of a slice from a DataFrame\n",
      "\n",
      "See the caveats in the documentation: http://pandas.pydata.org/pandas-docs/stable/indexing.html#indexing-view-versus-copy\n",
      "  after removing the cwd from sys.path.\n"
     ]
    }
   ],
   "source": [
    "t_bill[\"datadate\"] = [datetime.strptime(t_bill.Date[i],'%b %y') for i in range(len(t_bill.Date))]\n",
    "for i in range(len(consumer_staples.datadate)):\n",
    "    dayr = calendar.monthrange(t_bill.datadate[i].year,t_bill.datadate[i].month)[1]\n",
    "    t_bill[\"datadate\"][i] = t_bill.datadate[i].replace(day = dayr)"
   ]
  },
  {
   "cell_type": "code",
   "execution_count": 261,
   "metadata": {},
   "outputs": [],
   "source": [
    "def get_bad_data(prices):\n",
    "    bad_data = list()\n",
    "    for ticker in prices.tic.unique():\n",
    "        subset = prices[prices.tic==ticker]\n",
    "        current = 'na' if np.isnan(subset.prccm.iloc[0]) else 'val'\n",
    "        for v in subset.prccm[1:]:\n",
    "            if not np.isnan(v):\n",
    "                current = 'val'\n",
    "            elif current == 'val' and np.isnan(v):\n",
    "                bad_data.append((ticker, subset.conm.iloc[0]))\n",
    "                continue\n",
    "    return Counter(bad_data)"
   ]
  },
  {
   "cell_type": "code",
   "execution_count": 286,
   "metadata": {},
   "outputs": [],
   "source": [
    "bad_dat_count = get_bad_data(prices)"
   ]
  },
  {
   "cell_type": "code",
   "execution_count": 265,
   "metadata": {},
   "outputs": [],
   "source": [
    "prices['chng'] = prices.prccm.pct_change()"
   ]
  },
  {
   "cell_type": "code",
   "execution_count": 266,
   "metadata": {},
   "outputs": [
    {
     "data": {
      "text/html": [
       "<div>\n",
       "<style scoped>\n",
       "    .dataframe tbody tr th:only-of-type {\n",
       "        vertical-align: middle;\n",
       "    }\n",
       "\n",
       "    .dataframe tbody tr th {\n",
       "        vertical-align: top;\n",
       "    }\n",
       "\n",
       "    .dataframe thead th {\n",
       "        text-align: right;\n",
       "    }\n",
       "</style>\n",
       "<table border=\"1\" class=\"dataframe\">\n",
       "  <thead>\n",
       "    <tr style=\"text-align: right;\">\n",
       "      <th></th>\n",
       "      <th>gvkey</th>\n",
       "      <th>iid</th>\n",
       "      <th>datadate</th>\n",
       "      <th>tic</th>\n",
       "      <th>cusip</th>\n",
       "      <th>conm</th>\n",
       "      <th>prccm</th>\n",
       "      <th>exchg</th>\n",
       "      <th>secstat</th>\n",
       "      <th>tpci</th>\n",
       "      <th>cik</th>\n",
       "      <th>fic</th>\n",
       "      <th>chng</th>\n",
       "    </tr>\n",
       "  </thead>\n",
       "  <tbody>\n",
       "    <tr>\n",
       "      <th>0</th>\n",
       "      <td>1213</td>\n",
       "      <td>01</td>\n",
       "      <td>2000-01-31</td>\n",
       "      <td>ABF</td>\n",
       "      <td>009269101</td>\n",
       "      <td>AIRBORNE INC</td>\n",
       "      <td>19.5625</td>\n",
       "      <td>11</td>\n",
       "      <td>I</td>\n",
       "      <td>0</td>\n",
       "      <td>3000.0</td>\n",
       "      <td>USA</td>\n",
       "      <td>NaN</td>\n",
       "    </tr>\n",
       "    <tr>\n",
       "      <th>1</th>\n",
       "      <td>1213</td>\n",
       "      <td>01</td>\n",
       "      <td>2000-02-29</td>\n",
       "      <td>ABF</td>\n",
       "      <td>009269101</td>\n",
       "      <td>AIRBORNE INC</td>\n",
       "      <td>18.5000</td>\n",
       "      <td>11</td>\n",
       "      <td>I</td>\n",
       "      <td>0</td>\n",
       "      <td>3000.0</td>\n",
       "      <td>USA</td>\n",
       "      <td>-0.054313</td>\n",
       "    </tr>\n",
       "    <tr>\n",
       "      <th>2</th>\n",
       "      <td>1213</td>\n",
       "      <td>01</td>\n",
       "      <td>2000-03-31</td>\n",
       "      <td>ABF</td>\n",
       "      <td>009269101</td>\n",
       "      <td>AIRBORNE INC</td>\n",
       "      <td>24.0000</td>\n",
       "      <td>11</td>\n",
       "      <td>I</td>\n",
       "      <td>0</td>\n",
       "      <td>3000.0</td>\n",
       "      <td>USA</td>\n",
       "      <td>0.297297</td>\n",
       "    </tr>\n",
       "    <tr>\n",
       "      <th>3</th>\n",
       "      <td>1213</td>\n",
       "      <td>01</td>\n",
       "      <td>2000-04-30</td>\n",
       "      <td>ABF</td>\n",
       "      <td>009269101</td>\n",
       "      <td>AIRBORNE INC</td>\n",
       "      <td>21.4375</td>\n",
       "      <td>11</td>\n",
       "      <td>I</td>\n",
       "      <td>0</td>\n",
       "      <td>3000.0</td>\n",
       "      <td>USA</td>\n",
       "      <td>-0.106771</td>\n",
       "    </tr>\n",
       "    <tr>\n",
       "      <th>4</th>\n",
       "      <td>1213</td>\n",
       "      <td>01</td>\n",
       "      <td>2000-05-31</td>\n",
       "      <td>ABF</td>\n",
       "      <td>009269101</td>\n",
       "      <td>AIRBORNE INC</td>\n",
       "      <td>20.1875</td>\n",
       "      <td>11</td>\n",
       "      <td>I</td>\n",
       "      <td>0</td>\n",
       "      <td>3000.0</td>\n",
       "      <td>USA</td>\n",
       "      <td>-0.058309</td>\n",
       "    </tr>\n",
       "  </tbody>\n",
       "</table>\n",
       "</div>"
      ],
      "text/plain": [
       "   gvkey iid   datadate  tic      cusip          conm    prccm  exchg secstat  \\\n",
       "0   1213  01 2000-01-31  ABF  009269101  AIRBORNE INC  19.5625     11       I   \n",
       "1   1213  01 2000-02-29  ABF  009269101  AIRBORNE INC  18.5000     11       I   \n",
       "2   1213  01 2000-03-31  ABF  009269101  AIRBORNE INC  24.0000     11       I   \n",
       "3   1213  01 2000-04-30  ABF  009269101  AIRBORNE INC  21.4375     11       I   \n",
       "4   1213  01 2000-05-31  ABF  009269101  AIRBORNE INC  20.1875     11       I   \n",
       "\n",
       "  tpci     cik  fic      chng  \n",
       "0    0  3000.0  USA       NaN  \n",
       "1    0  3000.0  USA -0.054313  \n",
       "2    0  3000.0  USA  0.297297  \n",
       "3    0  3000.0  USA -0.106771  \n",
       "4    0  3000.0  USA -0.058309  "
      ]
     },
     "execution_count": 266,
     "metadata": {},
     "output_type": "execute_result"
    }
   ],
   "source": [
    "prices.head()"
   ]
  },
  {
   "cell_type": "code",
   "execution_count": 267,
   "metadata": {},
   "outputs": [],
   "source": [
    "consumer_staples['chng'] = consumer_staples.Price.pct_change()"
   ]
  },
  {
   "cell_type": "code",
   "execution_count": 268,
   "metadata": {},
   "outputs": [
    {
     "data": {
      "text/html": [
       "<div>\n",
       "<style scoped>\n",
       "    .dataframe tbody tr th:only-of-type {\n",
       "        vertical-align: middle;\n",
       "    }\n",
       "\n",
       "    .dataframe tbody tr th {\n",
       "        vertical-align: top;\n",
       "    }\n",
       "\n",
       "    .dataframe thead th {\n",
       "        text-align: right;\n",
       "    }\n",
       "</style>\n",
       "<table border=\"1\" class=\"dataframe\">\n",
       "  <thead>\n",
       "    <tr style=\"text-align: right;\">\n",
       "      <th></th>\n",
       "      <th>Date</th>\n",
       "      <th>Price</th>\n",
       "      <th>Open</th>\n",
       "      <th>High</th>\n",
       "      <th>Low</th>\n",
       "      <th>Vol.</th>\n",
       "      <th>Change %</th>\n",
       "      <th>datadate</th>\n",
       "      <th>chng</th>\n",
       "    </tr>\n",
       "  </thead>\n",
       "  <tbody>\n",
       "    <tr>\n",
       "      <th>0</th>\n",
       "      <td>Jan 00</td>\n",
       "      <td>193.87</td>\n",
       "      <td>193.87</td>\n",
       "      <td>193.87</td>\n",
       "      <td>193.87</td>\n",
       "      <td>-</td>\n",
       "      <td>-6.82%</td>\n",
       "      <td>2000-01-31</td>\n",
       "      <td>NaN</td>\n",
       "    </tr>\n",
       "    <tr>\n",
       "      <th>1</th>\n",
       "      <td>Feb 00</td>\n",
       "      <td>174.01</td>\n",
       "      <td>174.01</td>\n",
       "      <td>174.01</td>\n",
       "      <td>174.01</td>\n",
       "      <td>-</td>\n",
       "      <td>-10.24%</td>\n",
       "      <td>2000-02-29</td>\n",
       "      <td>-0.102440</td>\n",
       "    </tr>\n",
       "    <tr>\n",
       "      <th>2</th>\n",
       "      <td>Mar 00</td>\n",
       "      <td>171.55</td>\n",
       "      <td>171.55</td>\n",
       "      <td>171.55</td>\n",
       "      <td>171.55</td>\n",
       "      <td>-</td>\n",
       "      <td>-1.41%</td>\n",
       "      <td>2000-03-31</td>\n",
       "      <td>-0.014137</td>\n",
       "    </tr>\n",
       "    <tr>\n",
       "      <th>3</th>\n",
       "      <td>Apr 00</td>\n",
       "      <td>175.73</td>\n",
       "      <td>175.73</td>\n",
       "      <td>175.73</td>\n",
       "      <td>175.73</td>\n",
       "      <td>-</td>\n",
       "      <td>2.44%</td>\n",
       "      <td>2000-04-30</td>\n",
       "      <td>0.024366</td>\n",
       "    </tr>\n",
       "    <tr>\n",
       "      <th>4</th>\n",
       "      <td>May 00</td>\n",
       "      <td>192.32</td>\n",
       "      <td>192.32</td>\n",
       "      <td>192.32</td>\n",
       "      <td>192.32</td>\n",
       "      <td>-</td>\n",
       "      <td>9.44%</td>\n",
       "      <td>2000-05-31</td>\n",
       "      <td>0.094406</td>\n",
       "    </tr>\n",
       "  </tbody>\n",
       "</table>\n",
       "</div>"
      ],
      "text/plain": [
       "     Date   Price    Open    High     Low Vol. Change %   datadate      chng\n",
       "0  Jan 00  193.87  193.87  193.87  193.87    -   -6.82% 2000-01-31       NaN\n",
       "1  Feb 00  174.01  174.01  174.01  174.01    -  -10.24% 2000-02-29 -0.102440\n",
       "2  Mar 00  171.55  171.55  171.55  171.55    -   -1.41% 2000-03-31 -0.014137\n",
       "3  Apr 00  175.73  175.73  175.73  175.73    -    2.44% 2000-04-30  0.024366\n",
       "4  May 00  192.32  192.32  192.32  192.32    -    9.44% 2000-05-31  0.094406"
      ]
     },
     "execution_count": 268,
     "metadata": {},
     "output_type": "execute_result"
    }
   ],
   "source": [
    "consumer_staples.head()"
   ]
  },
  {
   "cell_type": "code",
   "execution_count": 269,
   "metadata": {},
   "outputs": [],
   "source": [
    "consumer_staples['excess'] = consumer_staples.chng - t_bill.Price/100"
   ]
  },
  {
   "cell_type": "code",
   "execution_count": 126,
   "metadata": {},
   "outputs": [
    {
     "data": {
      "text/plain": [
       "-0.009783040046646936"
      ]
     },
     "execution_count": 126,
     "metadata": {},
     "output_type": "execute_result"
    }
   ],
   "source": [
    "consumer_staples.excess.mean()"
   ]
  },
  {
   "cell_type": "code",
   "execution_count": 19,
   "metadata": {},
   "outputs": [
    {
     "data": {
      "text/html": [
       "<div>\n",
       "<style scoped>\n",
       "    .dataframe tbody tr th:only-of-type {\n",
       "        vertical-align: middle;\n",
       "    }\n",
       "\n",
       "    .dataframe tbody tr th {\n",
       "        vertical-align: top;\n",
       "    }\n",
       "\n",
       "    .dataframe thead th {\n",
       "        text-align: right;\n",
       "    }\n",
       "</style>\n",
       "<table border=\"1\" class=\"dataframe\">\n",
       "  <thead>\n",
       "    <tr style=\"text-align: right;\">\n",
       "      <th></th>\n",
       "      <th>gvkey</th>\n",
       "      <th>iid</th>\n",
       "      <th>datadate</th>\n",
       "      <th>tic</th>\n",
       "      <th>cusip</th>\n",
       "      <th>conm</th>\n",
       "      <th>prccm</th>\n",
       "      <th>exchg</th>\n",
       "      <th>secstat</th>\n",
       "      <th>tpci</th>\n",
       "      <th>cik</th>\n",
       "      <th>fic</th>\n",
       "      <th>chng</th>\n",
       "    </tr>\n",
       "  </thead>\n",
       "  <tbody>\n",
       "    <tr>\n",
       "      <th>0</th>\n",
       "      <td>1213</td>\n",
       "      <td>01</td>\n",
       "      <td>20000131</td>\n",
       "      <td>ABF</td>\n",
       "      <td>009269101</td>\n",
       "      <td>AIRBORNE INC</td>\n",
       "      <td>19.5625</td>\n",
       "      <td>11</td>\n",
       "      <td>I</td>\n",
       "      <td>0</td>\n",
       "      <td>3000.0</td>\n",
       "      <td>USA</td>\n",
       "      <td>NaN</td>\n",
       "    </tr>\n",
       "    <tr>\n",
       "      <th>1</th>\n",
       "      <td>1213</td>\n",
       "      <td>01</td>\n",
       "      <td>20000229</td>\n",
       "      <td>ABF</td>\n",
       "      <td>009269101</td>\n",
       "      <td>AIRBORNE INC</td>\n",
       "      <td>18.5000</td>\n",
       "      <td>11</td>\n",
       "      <td>I</td>\n",
       "      <td>0</td>\n",
       "      <td>3000.0</td>\n",
       "      <td>USA</td>\n",
       "      <td>-0.054313</td>\n",
       "    </tr>\n",
       "    <tr>\n",
       "      <th>2</th>\n",
       "      <td>1213</td>\n",
       "      <td>01</td>\n",
       "      <td>20000331</td>\n",
       "      <td>ABF</td>\n",
       "      <td>009269101</td>\n",
       "      <td>AIRBORNE INC</td>\n",
       "      <td>24.0000</td>\n",
       "      <td>11</td>\n",
       "      <td>I</td>\n",
       "      <td>0</td>\n",
       "      <td>3000.0</td>\n",
       "      <td>USA</td>\n",
       "      <td>0.297297</td>\n",
       "    </tr>\n",
       "    <tr>\n",
       "      <th>3</th>\n",
       "      <td>1213</td>\n",
       "      <td>01</td>\n",
       "      <td>20000430</td>\n",
       "      <td>ABF</td>\n",
       "      <td>009269101</td>\n",
       "      <td>AIRBORNE INC</td>\n",
       "      <td>21.4375</td>\n",
       "      <td>11</td>\n",
       "      <td>I</td>\n",
       "      <td>0</td>\n",
       "      <td>3000.0</td>\n",
       "      <td>USA</td>\n",
       "      <td>-0.106771</td>\n",
       "    </tr>\n",
       "    <tr>\n",
       "      <th>4</th>\n",
       "      <td>1213</td>\n",
       "      <td>01</td>\n",
       "      <td>20000531</td>\n",
       "      <td>ABF</td>\n",
       "      <td>009269101</td>\n",
       "      <td>AIRBORNE INC</td>\n",
       "      <td>20.1875</td>\n",
       "      <td>11</td>\n",
       "      <td>I</td>\n",
       "      <td>0</td>\n",
       "      <td>3000.0</td>\n",
       "      <td>USA</td>\n",
       "      <td>-0.058309</td>\n",
       "    </tr>\n",
       "  </tbody>\n",
       "</table>\n",
       "</div>"
      ],
      "text/plain": [
       "   gvkey iid  datadate  tic      cusip          conm    prccm  exchg secstat  \\\n",
       "0   1213  01  20000131  ABF  009269101  AIRBORNE INC  19.5625     11       I   \n",
       "1   1213  01  20000229  ABF  009269101  AIRBORNE INC  18.5000     11       I   \n",
       "2   1213  01  20000331  ABF  009269101  AIRBORNE INC  24.0000     11       I   \n",
       "3   1213  01  20000430  ABF  009269101  AIRBORNE INC  21.4375     11       I   \n",
       "4   1213  01  20000531  ABF  009269101  AIRBORNE INC  20.1875     11       I   \n",
       "\n",
       "  tpci     cik  fic      chng  \n",
       "0    0  3000.0  USA       NaN  \n",
       "1    0  3000.0  USA -0.054313  \n",
       "2    0  3000.0  USA  0.297297  \n",
       "3    0  3000.0  USA -0.106771  \n",
       "4    0  3000.0  USA -0.058309  "
      ]
     },
     "execution_count": 19,
     "metadata": {},
     "output_type": "execute_result"
    }
   ],
   "source": [
    "prices.head()"
   ]
  },
  {
   "cell_type": "code",
   "execution_count": 120,
   "metadata": {},
   "outputs": [
    {
     "data": {
      "text/html": [
       "<div>\n",
       "<style scoped>\n",
       "    .dataframe tbody tr th:only-of-type {\n",
       "        vertical-align: middle;\n",
       "    }\n",
       "\n",
       "    .dataframe tbody tr th {\n",
       "        vertical-align: top;\n",
       "    }\n",
       "\n",
       "    .dataframe thead th {\n",
       "        text-align: right;\n",
       "    }\n",
       "</style>\n",
       "<table border=\"1\" class=\"dataframe\">\n",
       "  <thead>\n",
       "    <tr style=\"text-align: right;\">\n",
       "      <th></th>\n",
       "      <th>Date</th>\n",
       "      <th>Price</th>\n",
       "      <th>Open</th>\n",
       "      <th>High</th>\n",
       "      <th>Low</th>\n",
       "      <th>Vol.</th>\n",
       "      <th>Change %</th>\n",
       "    </tr>\n",
       "  </thead>\n",
       "  <tbody>\n",
       "    <tr>\n",
       "      <th>255</th>\n",
       "      <td>Jan 00</td>\n",
       "      <td>193.87</td>\n",
       "      <td>193.87</td>\n",
       "      <td>193.87</td>\n",
       "      <td>193.87</td>\n",
       "      <td>-</td>\n",
       "      <td>-6.82%</td>\n",
       "    </tr>\n",
       "    <tr>\n",
       "      <th>254</th>\n",
       "      <td>Feb 00</td>\n",
       "      <td>174.01</td>\n",
       "      <td>174.01</td>\n",
       "      <td>174.01</td>\n",
       "      <td>174.01</td>\n",
       "      <td>-</td>\n",
       "      <td>-10.24%</td>\n",
       "    </tr>\n",
       "    <tr>\n",
       "      <th>253</th>\n",
       "      <td>Mar 00</td>\n",
       "      <td>171.55</td>\n",
       "      <td>171.55</td>\n",
       "      <td>171.55</td>\n",
       "      <td>171.55</td>\n",
       "      <td>-</td>\n",
       "      <td>-1.41%</td>\n",
       "    </tr>\n",
       "    <tr>\n",
       "      <th>252</th>\n",
       "      <td>Apr 00</td>\n",
       "      <td>175.73</td>\n",
       "      <td>175.73</td>\n",
       "      <td>175.73</td>\n",
       "      <td>175.73</td>\n",
       "      <td>-</td>\n",
       "      <td>2.44%</td>\n",
       "    </tr>\n",
       "    <tr>\n",
       "      <th>251</th>\n",
       "      <td>May 00</td>\n",
       "      <td>192.32</td>\n",
       "      <td>192.32</td>\n",
       "      <td>192.32</td>\n",
       "      <td>192.32</td>\n",
       "      <td>-</td>\n",
       "      <td>9.44%</td>\n",
       "    </tr>\n",
       "  </tbody>\n",
       "</table>\n",
       "</div>"
      ],
      "text/plain": [
       "       Date   Price    Open    High     Low Vol. Change %\n",
       "255  Jan 00  193.87  193.87  193.87  193.87    -   -6.82%\n",
       "254  Feb 00  174.01  174.01  174.01  174.01    -  -10.24%\n",
       "253  Mar 00  171.55  171.55  171.55  171.55    -   -1.41%\n",
       "252  Apr 00  175.73  175.73  175.73  175.73    -    2.44%\n",
       "251  May 00  192.32  192.32  192.32  192.32    -    9.44%"
      ]
     },
     "execution_count": 120,
     "metadata": {},
     "output_type": "execute_result"
    }
   ],
   "source": [
    "consumer_staples.head()"
   ]
  },
  {
   "cell_type": "code",
   "execution_count": 149,
   "metadata": {},
   "outputs": [
    {
     "name": "stdout",
     "output_type": "stream",
     "text": [
      "<class 'pandas.core.frame.DataFrame'>\n",
      "RangeIndex: 76142 entries, 0 to 76141\n",
      "Data columns (total 12 columns):\n",
      "gvkey       76142 non-null int64\n",
      "iid         76142 non-null object\n",
      "datadate    76142 non-null datetime64[ns]\n",
      "tic         76142 non-null object\n",
      "cusip       76142 non-null object\n",
      "conm        76142 non-null object\n",
      "prccm       74250 non-null float64\n",
      "exchg       76142 non-null int64\n",
      "secstat     76142 non-null object\n",
      "tpci        76142 non-null object\n",
      "cik         75019 non-null float64\n",
      "fic         76142 non-null object\n",
      "dtypes: datetime64[ns](1), float64(2), int64(2), object(7)\n",
      "memory usage: 7.0+ MB\n"
     ]
    }
   ],
   "source": [
    "prices.info()"
   ]
  },
  {
   "cell_type": "code",
   "execution_count": 153,
   "metadata": {},
   "outputs": [
    {
     "name": "stdout",
     "output_type": "stream",
     "text": [
      "<class 'pandas.core.frame.DataFrame'>\n",
      "RangeIndex: 256 entries, 0 to 255\n",
      "Data columns (total 10 columns):\n",
      "Date        256 non-null object\n",
      "Price       256 non-null float64\n",
      "Open        256 non-null float64\n",
      "High        256 non-null float64\n",
      "Low         256 non-null float64\n",
      "Vol.        256 non-null object\n",
      "Change %    256 non-null object\n",
      "chng        255 non-null float64\n",
      "excess      255 non-null float64\n",
      "datadate    256 non-null datetime64[ns]\n",
      "dtypes: datetime64[ns](1), float64(6), object(3)\n",
      "memory usage: 20.1+ KB\n"
     ]
    }
   ],
   "source": [
    "consumer_staples.info()"
   ]
  },
  {
   "cell_type": "code",
   "execution_count": 280,
   "metadata": {},
   "outputs": [],
   "source": [
    "ex = (prices.merge(consumer_staples,how='left', on = \"datadate\", suffixes = ('','_cs'))).merge(t_bill,how='left', on = \"datadate\", suffixes = ('','_tb'))"
   ]
  },
  {
   "cell_type": "code",
   "execution_count": 301,
   "metadata": {},
   "outputs": [
    {
     "name": "stdout",
     "output_type": "stream",
     "text": [
      "<class 'pandas.core.frame.DataFrame'>\n",
      "Int64Index: 76142 entries, 0 to 76141\n",
      "Data columns (total 28 columns):\n",
      "gvkey          76142 non-null int64\n",
      "iid            76142 non-null object\n",
      "datadate       76142 non-null datetime64[ns]\n",
      "tic            76142 non-null object\n",
      "cusip          76142 non-null object\n",
      "conm           76142 non-null object\n",
      "prccm          74250 non-null float64\n",
      "exchg          76142 non-null int64\n",
      "secstat        76142 non-null object\n",
      "tpci           76142 non-null object\n",
      "cik            75019 non-null float64\n",
      "fic            76142 non-null object\n",
      "chng           76141 non-null float64\n",
      "Date           76142 non-null object\n",
      "Price          76142 non-null float64\n",
      "Open           76142 non-null float64\n",
      "High           76142 non-null float64\n",
      "Low            76142 non-null float64\n",
      "Vol.           76142 non-null object\n",
      "Change %       76142 non-null object\n",
      "chng_cs        75872 non-null float64\n",
      "excess         75872 non-null float64\n",
      "Date_tb        76142 non-null object\n",
      "Price_tb       76142 non-null float64\n",
      "Open_tb        76142 non-null float64\n",
      "High_tb        76142 non-null float64\n",
      "Low_tb         76142 non-null float64\n",
      "Change %_tb    76142 non-null object\n",
      "dtypes: datetime64[ns](1), float64(13), int64(2), object(12)\n",
      "memory usage: 16.8+ MB\n"
     ]
    }
   ],
   "source": [
    "ex.info()"
   ]
  },
  {
   "cell_type": "code",
   "execution_count": 326,
   "metadata": {},
   "outputs": [
    {
     "name": "stderr",
     "output_type": "stream",
     "text": [
      "/Users/siddharthkantamneni/anaconda3/lib/python3.7/site-packages/scipy/stats/_distn_infrastructure.py:877: RuntimeWarning: invalid value encountered in greater\n",
      "  return (self.a < x) & (x < self.b)\n",
      "/Users/siddharthkantamneni/anaconda3/lib/python3.7/site-packages/scipy/stats/_distn_infrastructure.py:877: RuntimeWarning: invalid value encountered in less\n",
      "  return (self.a < x) & (x < self.b)\n",
      "/Users/siddharthkantamneni/anaconda3/lib/python3.7/site-packages/scipy/stats/_distn_infrastructure.py:1831: RuntimeWarning: invalid value encountered in less_equal\n",
      "  cond2 = cond0 & (x <= self.a)\n"
     ]
    }
   ],
   "source": [
    "capm = []\n",
    "for tic in np.unique(ex[\"tic\"]):\n",
    "    try:\n",
    "        temp_df = ex[ex[\"tic\"] == tic][1:]\n",
    "        temp_df = temp_df.reset_index(drop = True)\n",
    "        if not (tic, temp_df[\"conm\"][0]) in bad_dat_count:\n",
    "            Y = temp_df[\"chng\"]-(temp_df[\"Price_tb\"]/100)\n",
    "            X = temp_df[\"excess\"]\n",
    "            model = OLS(Y,sm.tools.add_constant(X)).fit()\n",
    "            capm.append((tic,model.params,model.pvalues))\n",
    "    except:\n",
    "        continue\n",
    "    "
   ]
  },
  {
   "cell_type": "code",
   "execution_count": 341,
   "metadata": {},
   "outputs": [],
   "source": [
    "pvalues = []\n",
    "for i in capm:\n",
    "    try:\n",
    "        pvalues.append(i[2][1])\n",
    "    except:\n",
    "        continue\n"
   ]
  },
  {
   "cell_type": "code",
   "execution_count": 343,
   "metadata": {},
   "outputs": [
    {
     "name": "stderr",
     "output_type": "stream",
     "text": [
      "/Users/siddharthkantamneni/anaconda3/lib/python3.7/site-packages/numpy/lib/histograms.py:824: RuntimeWarning: invalid value encountered in greater_equal\n",
      "  keep = (tmp_a >= first_edge)\n",
      "/Users/siddharthkantamneni/anaconda3/lib/python3.7/site-packages/numpy/lib/histograms.py:825: RuntimeWarning: invalid value encountered in less_equal\n",
      "  keep &= (tmp_a <= last_edge)\n"
     ]
    },
    {
     "data": {
      "text/plain": [
       "(array([309.,  11.,  12.,   7.,   6.,   6.,   7.,   8.,   4.,   7.]),\n",
       " array([4.42713964e-52, 9.46309587e-02, 1.89261917e-01, 2.83892876e-01,\n",
       "        3.78523835e-01, 4.73154793e-01, 5.67785752e-01, 6.62416711e-01,\n",
       "        7.57047669e-01, 8.51678628e-01, 9.46309587e-01]),\n",
       " <a list of 10 Patch objects>)"
      ]
     },
     "execution_count": 343,
     "metadata": {},
     "output_type": "execute_result"
    },
    {
     "data": {
      "image/png": "[encoded data removed]",
      "text/plain": [
       "<Figure size 432x288 with 1 Axes>"
      ]
     },
     "metadata": {
      "needs_background": "light"
     },
     "output_type": "display_data"
    }
   ],
   "source": [
    "plt.hist(pvalues)"
   ]
  },
  {
   "cell_type": "code",
   "execution_count": 344,
   "metadata": {},
   "outputs": [
    {
     "data": {
      "text/plain": [
       "68.0"
      ]
     },
     "execution_count": 344,
     "metadata": {},
     "output_type": "execute_result"
    }
   ],
   "source": [
    "11.+ 12.+   7.+6.+   6.+   7.+   8.+  4.+  7."
   ]
  },
  {
   "cell_type": "code",
   "execution_count": null,
   "metadata": {},
   "outputs": [],
   "source": []
  }
 ],
 "metadata": {
  "kernelspec": {
   "display_name": "Python 3",
   "language": "python",
   "name": "python3"
  },
  "language_info": {
   "codemirror_mode": {
    "name": "ipython",
    "version": 3
   },
   "file_extension": ".py",
   "mimetype": "text/x-python",
   "name": "python",
   "nbconvert_exporter": "python",
   "pygments_lexer": "ipython3",
   "version": "3.7.3"
  }
 },
 "nbformat": 4,
 "nbformat_minor": 5
}
