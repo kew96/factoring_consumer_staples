{
 "cells": [
  {
   "cell_type": "code",
   "execution_count": 2,
   "id": "3b0e816f",
   "metadata": {},
   "outputs": [],
   "source": [
    "from pathlib import Path\n",
    "from collections import Counter\n",
    "\n",
    "import pandas as pd\n",
    "import numpy as np\n",
    "import matplotlib.pyplot as plt"
   ]
  },
  {
   "cell_type": "code",
   "execution_count": 3,
   "id": "af863c57",
   "metadata": {},
   "outputs": [],
   "source": [
    "DATA_PATH = Path.cwd().parent.joinpath('data', 'raw')"
   ]
  },
  {
   "cell_type": "code",
   "execution_count": 27,
   "id": "9ed25f49",
   "metadata": {},
   "outputs": [],
   "source": [
    "book_ratios = pd.read_csv(DATA_PATH.joinpath('book_ratios.csv'))\n",
    "all_tickers = pd.read_csv(DATA_PATH.joinpath('market_values.csv'), usecols=['gvkey', 'tic', 'conm'])\n",
    "\n",
    "missing = book_ratios.loc[book_ratios.TICKER.isna(), ['gvkey', 'TICKER']]\n",
    "for gvkey in missing.gvkey.unique():\n",
    "    if len(all_tickers.tic[all_tickers.gvkey==gvkey]):\n",
    "        book_ratios.loc[book_ratios.gvkey==gvkey, 'TICKER'] = all_tickers.tic[all_tickers.gvkey==gvkey].iloc[0]\n",
    "book_ratios = book_ratios.dropna(subset=['TICKER'])"
   ]
  },
  {
   "cell_type": "code",
   "execution_count": 28,
   "id": "ac631719",
   "metadata": {},
   "outputs": [
    {
     "data": {
      "text/html": [
       "<div>\n",
       "<style scoped>\n",
       "    .dataframe tbody tr th:only-of-type {\n",
       "        vertical-align: middle;\n",
       "    }\n",
       "\n",
       "    .dataframe tbody tr th {\n",
       "        vertical-align: top;\n",
       "    }\n",
       "\n",
       "    .dataframe thead th {\n",
       "        text-align: right;\n",
       "    }\n",
       "</style>\n",
       "<table border=\"1\" class=\"dataframe\">\n",
       "  <thead>\n",
       "    <tr style=\"text-align: right;\">\n",
       "      <th></th>\n",
       "      <th>gvkey</th>\n",
       "      <th>permno</th>\n",
       "      <th>adate</th>\n",
       "      <th>qdate</th>\n",
       "      <th>public_date</th>\n",
       "      <th>bm</th>\n",
       "      <th>ptb</th>\n",
       "      <th>TICKER</th>\n",
       "      <th>cusip</th>\n",
       "    </tr>\n",
       "  </thead>\n",
       "  <tbody>\n",
       "    <tr>\n",
       "      <th>0</th>\n",
       "      <td>12825</td>\n",
       "      <td>10026</td>\n",
       "      <td>19990930.0</td>\n",
       "      <td>19990930</td>\n",
       "      <td>20000131</td>\n",
       "      <td>0.781</td>\n",
       "      <td>1.242</td>\n",
       "      <td>JJSF</td>\n",
       "      <td>46603210</td>\n",
       "    </tr>\n",
       "    <tr>\n",
       "      <th>1</th>\n",
       "      <td>12825</td>\n",
       "      <td>10026</td>\n",
       "      <td>19990930.0</td>\n",
       "      <td>19991231</td>\n",
       "      <td>20000229</td>\n",
       "      <td>0.759</td>\n",
       "      <td>1.185</td>\n",
       "      <td>JJSF</td>\n",
       "      <td>46603210</td>\n",
       "    </tr>\n",
       "    <tr>\n",
       "      <th>2</th>\n",
       "      <td>12825</td>\n",
       "      <td>10026</td>\n",
       "      <td>19990930.0</td>\n",
       "      <td>19991231</td>\n",
       "      <td>20000331</td>\n",
       "      <td>0.759</td>\n",
       "      <td>1.273</td>\n",
       "      <td>JJSF</td>\n",
       "      <td>46603210</td>\n",
       "    </tr>\n",
       "    <tr>\n",
       "      <th>3</th>\n",
       "      <td>12825</td>\n",
       "      <td>10026</td>\n",
       "      <td>19990930.0</td>\n",
       "      <td>19991231</td>\n",
       "      <td>20000430</td>\n",
       "      <td>0.759</td>\n",
       "      <td>1.001</td>\n",
       "      <td>JJSF</td>\n",
       "      <td>46603210</td>\n",
       "    </tr>\n",
       "    <tr>\n",
       "      <th>4</th>\n",
       "      <td>12825</td>\n",
       "      <td>10026</td>\n",
       "      <td>19990930.0</td>\n",
       "      <td>20000331</td>\n",
       "      <td>20000531</td>\n",
       "      <td>0.786</td>\n",
       "      <td>0.934</td>\n",
       "      <td>JJSF</td>\n",
       "      <td>46603210</td>\n",
       "    </tr>\n",
       "  </tbody>\n",
       "</table>\n",
       "</div>"
      ],
      "text/plain": [
       "   gvkey  permno       adate     qdate  public_date     bm    ptb TICKER  \\\n",
       "0  12825   10026  19990930.0  19990930     20000131  0.781  1.242   JJSF   \n",
       "1  12825   10026  19990930.0  19991231     20000229  0.759  1.185   JJSF   \n",
       "2  12825   10026  19990930.0  19991231     20000331  0.759  1.273   JJSF   \n",
       "3  12825   10026  19990930.0  19991231     20000430  0.759  1.001   JJSF   \n",
       "4  12825   10026  19990930.0  20000331     20000531  0.786  0.934   JJSF   \n",
       "\n",
       "      cusip  \n",
       "0  46603210  \n",
       "1  46603210  \n",
       "2  46603210  \n",
       "3  46603210  \n",
       "4  46603210  "
      ]
     },
     "execution_count": 28,
     "metadata": {},
     "output_type": "execute_result"
    }
   ],
   "source": [
    "book_ratios.head()"
   ]
  },
  {
   "cell_type": "code",
   "execution_count": 42,
   "id": "7c5967b6",
   "metadata": {},
   "outputs": [],
   "source": [
    "def get_bad_data(book_ratios):\n",
    "    bad_data = list()\n",
    "    for ticker in book_ratios.TICKER.unique():\n",
    "        subset = book_ratios[book_ratios.TICKER==ticker]\n",
    "        if np.isnan(subset.ptb.iloc[-1]):\n",
    "            subset = subset.iloc[:-1]\n",
    "        current = 'na' if np.isnan(subset.ptb.iloc[0]) else 'val'\n",
    "        for v in subset.ptb[1:]:\n",
    "            if not np.isnan(v):\n",
    "                current = 'val'\n",
    "            elif current == 'val' and np.isnan(v):\n",
    "                try:\n",
    "                    name = all_tickers[all_tickers.tic==ticker].conm.values[0]\n",
    "                except IndexError:\n",
    "                    name = 'UNKNOWN'\n",
    "                bad_data.append((ticker, name))\n",
    "                continue\n",
    "    return Counter(bad_data)"
   ]
  },
  {
   "cell_type": "code",
   "execution_count": 44,
   "id": "546b749a",
   "metadata": {},
   "outputs": [
    {
     "data": {
      "text/plain": [
       "27"
      ]
     },
     "execution_count": 44,
     "metadata": {},
     "output_type": "execute_result"
    }
   ],
   "source": [
    "counter = 0\n",
    "for entry in bad_data_1:\n",
    "    if entry[1] == 'UNKNOWN':\n",
    "        counter += 1\n",
    "counter"
   ]
  },
  {
   "cell_type": "code",
   "execution_count": 46,
   "id": "8281334f",
   "metadata": {},
   "outputs": [
    {
     "data": {
      "text/plain": [
       "28.36986301369863"
      ]
     },
     "execution_count": 46,
     "metadata": {},
     "output_type": "execute_result"
    }
   ],
   "source": [
    "np.mean(list(bad_data_1.values()))"
   ]
  },
  {
   "cell_type": "code",
   "execution_count": 43,
   "id": "47125ba9",
   "metadata": {},
   "outputs": [
    {
     "data": {
      "text/plain": [
       "Counter({('BEAM', 'BEAM THERAPEUTICS INC'): 1,\n",
       "         ('MHG', 'UNKNOWN'): 1,\n",
       "         ('EBIX', 'UNKNOWN'): 6,\n",
       "         ('DAN', 'DANA INC'): 1,\n",
       "         ('EK', 'UNKNOWN'): 24,\n",
       "         ('GM', 'GENERAL MOTORS CO'): 28,\n",
       "         ('GNC', 'UNKNOWN'): 41,\n",
       "         ('MYG', 'NETS FTSE CNBC GLOBAL 300'): 13,\n",
       "         ('RNDY', \"ROUNDY'S INC\"): 9,\n",
       "         ('FWM', 'UNKNOWN'): 11,\n",
       "         ('UST', 'PROSHARES ULTRA 7-10 YR TRES'): 31,\n",
       "         ('ENR', 'ENERGIZER HOLDINGS INC'): 15,\n",
       "         ('RRR', 'RED ROCK RESORTS INC'): 26,\n",
       "         ('CPAA', 'CONYERS PARK II ACQ'): 1,\n",
       "         ('LW', 'LAMB WESTON HOLDINGS INC'): 27,\n",
       "         ('GT', 'GOODYEAR TIRE & RUBBER CO'): 21,\n",
       "         ('GIS', 'GENERAL MILLS INC'): 12,\n",
       "         ('LO', 'LORILLARD INC'): 97,\n",
       "         ('KMB', 'KIMBERLY-CLARK CORP'): 24,\n",
       "         ('CL', 'COLGATE-PALMOLIVE CO'): 48,\n",
       "         ('BRBR', 'BELLRING BRANDS INC'): 1,\n",
       "         ('WIN', 'UNKNOWN'): 14,\n",
       "         ('CPB', 'CAMPBELL SOUP CO'): 12,\n",
       "         ('F', 'FORD MOTOR CO'): 36,\n",
       "         ('GAP', 'UNKNOWN'): 9,\n",
       "         ('PYX', 'UNKNOWN'): 2,\n",
       "         ('AVP', 'AVON PRODUCTS'): 88,\n",
       "         ('IG', 'PRINCIPAL INV GRD COR ETF'): 27,\n",
       "         ('TLGT', 'UNKNOWN'): 10,\n",
       "         ('SVU', 'SUPERVALU INC'): 48,\n",
       "         ('CLX', 'CLOROX CO/DE'): 57,\n",
       "         ('RAD', 'RITE AID CORP'): 129,\n",
       "         ('HRB', 'BLOCK H & R INC'): 12,\n",
       "         ('LIZ', 'UNKNOWN'): 17,\n",
       "         ('CCOM', 'UNKNOWN'): 7,\n",
       "         ('GDP', 'UNKNOWN'): 15,\n",
       "         ('SPC', 'UNKNOWN'): 14,\n",
       "         ('DF', 'UNKNOWN'): 9,\n",
       "         ('HOV', 'HOVNANIAN ENTRPRS INC  -CL A'): 132,\n",
       "         ('CCE', 'UNKNOWN'): 6,\n",
       "         ('VGR', 'VECTOR GROUP LTD'): 154,\n",
       "         ('ICON', 'ICONIX BRAND GROUP INC'): 34,\n",
       "         ('SONC', 'SONIC CORP'): 52,\n",
       "         ('THQI', 'UNKNOWN'): 6,\n",
       "         ('SBUX', 'STARBUCKS CORP'): 13,\n",
       "         ('MED', 'MEDIFAST INC'): 15,\n",
       "         ('DAR', 'DARLING INGREDIENTS INC'): 6,\n",
       "         ('ABC', 'AMERISOURCEBERGEN CORP'): 1,\n",
       "         ('NHTC', 'NATURAL HEALTH TRENDS CORP'): 7,\n",
       "         ('TUP', 'TUPPERWARE BRANDS CORP'): 34,\n",
       "         ('EDMC', 'UNKNOWN'): 2,\n",
       "         ('TEN', 'TENNECO INC'): 33,\n",
       "         ('TIVO', 'TIVO CORP'): 44,\n",
       "         ('TTWO', 'TAKE-TWO INTERACTIVE SFTWR'): 2,\n",
       "         ('AMZN', 'AMAZON.COM INC'): 57,\n",
       "         ('ARM', 'UNKNOWN'): 17,\n",
       "         ('URI', 'UNITED RENTALS INC'): 30,\n",
       "         ('CEDC', 'UNKNOWN'): 3,\n",
       "         ('SCSS', 'UNKNOWN'): 12,\n",
       "         ('SNBR', 'UNKNOWN'): 22,\n",
       "         ('AXL', 'AMERICAN AXLE & MFG HOLDINGS'): 60,\n",
       "         ('PCLN', 'UNKNOWN'): 3,\n",
       "         ('STSI', 'UNKNOWN'): 6,\n",
       "         ('RCPI', 'UNKNOWN'): 10,\n",
       "         ('VC', 'VISTEON CORP'): 36,\n",
       "         ('WRC', 'WARNACO GROUP INC'): 1,\n",
       "         ('WTW', 'UNKNOWN'): 161,\n",
       "         ('TPX', 'TEMPUR SEALY INTL INC'): 6,\n",
       "         ('ABD', 'UNKNOWN'): 41,\n",
       "         ('FRZ', 'UNKNOWN'): 11,\n",
       "         ('PM', 'PHILIP MORRIS INTERNATIONAL'): 94,\n",
       "         ('MJN', 'MEAD JOHNSON NUTRITION CO'): 15,\n",
       "         ('CELH', 'CELSIUS HOLDINGS INC'): 1})"
      ]
     },
     "execution_count": 43,
     "metadata": {},
     "output_type": "execute_result"
    }
   ],
   "source": [
    "bad_data_1 = get_bad_data(book_ratios)\n",
    "bad_data_1"
   ]
  },
  {
   "cell_type": "code",
   "execution_count": 8,
   "id": "5cd829a9",
   "metadata": {},
   "outputs": [
    {
     "name": "stderr",
     "output_type": "stream",
     "text": [
      "/Users/siddharthkantamneni/anaconda3/lib/python3.7/site-packages/pandas/core/indexing.py:543: SettingWithCopyWarning: \n",
      "A value is trying to be set on a copy of a slice from a DataFrame.\n",
      "Try using .loc[row_indexer,col_indexer] = value instead\n",
      "\n",
      "See the caveats in the documentation: http://pandas.pydata.org/pandas-docs/stable/indexing.html#indexing-view-versus-copy\n",
      "  self.obj[item] = s\n"
     ]
    }
   ],
   "source": [
    "for elem in bad_data_1.items():\n",
    "    if elem[1] == 1:\n",
    "        subset = market_values[market_values.tic == elem[0][0]]\n",
    "        ind = subset[subset.mkvaltq.isna()].index[-1]\n",
    "        if ind == subset.index[-1]:\n",
    "            subset.loc[ind, 'mkvaltq'] = subset.loc[ind-1, 'mkvaltq']\n",
    "        else:\n",
    "            subset.loc[ind, 'mkvaltq'] = (subset.loc[ind-1, 'mkvaltq'] + subset.loc[ind+1, 'mkvaltq']) / 2\n",
    "        market_values[market_values.tic == elem[0][0]] = subset"
   ]
  },
  {
   "cell_type": "code",
   "execution_count": 9,
   "id": "aaca73ab",
   "metadata": {},
   "outputs": [
    {
     "data": {
      "text/plain": [
       "Counter({('DG', 'DOLLAR GENERAL CORP'): 10,\n",
       "         ('KHC', 'KRAFT HEINZ CO'): 10,\n",
       "         ('NATR', 'NATURES SUNSHINE PRODS INC'): 4,\n",
       "         ('CCL', 'CARNIVAL CORPORATION & PLC'): 5,\n",
       "         ('NBEV', 'NEWAGE INC'): 2,\n",
       "         ('SMPL', 'SIMPLY GOOD FOODS COMPANY'): 5,\n",
       "         ('PFGC', 'PERFORMANCE FOOD GROUP CO'): 32,\n",
       "         ('KDP', 'KEURIG DR PEPPER INC'): 10,\n",
       "         ('LMNR', 'LIMONEIRA CO'): 4,\n",
       "         ('NHTC', 'NATURAL HEALTH TRENDS CORP'): 3,\n",
       "         ('TTWO', 'TAKE-TWO INTERACTIVE SFTWR'): 2,\n",
       "         ('AIPC', 'AMER ITALIAN PASTA CO  -CL A'): 3,\n",
       "         ('SVM', 'SILVERCORP METALS INC'): 4,\n",
       "         ('APTV', 'APTIV PLC'): 9,\n",
       "         ('SEED', 'ORIGIN AGRITECH LTD'): 7,\n",
       "         ('CZZ', 'COSAN LTD'): 2,\n",
       "         ('NOMD', 'NOMAD FOODS LTD'): 2})"
      ]
     },
     "execution_count": 9,
     "metadata": {},
     "output_type": "execute_result"
    }
   ],
   "source": [
    "get_bad_data(market_values)"
   ]
  },
  {
   "cell_type": "code",
   "execution_count": 10,
   "id": "5d98ff62",
   "metadata": {},
   "outputs": [],
   "source": [
    "last_mkt_cap = list()\n",
    "for tick in market_values.tic.unique():\n",
    "    subset = market_values[market_values.tic == tick]\n",
    "    val = subset.mkvaltq.values[-1]\n",
    "    if not np.isnan(val):\n",
    "        if val*1_000_000 < 0.2*100_000_000_000:\n",
    "#             print(f'{tick}: {val*1_000_000:,}')\n",
    "            last_mkt_cap.append(subset.mkvaltq.values[-1]*1_000_000)"
   ]
  },
  {
   "cell_type": "code",
   "execution_count": 11,
   "id": "1a6fdd85",
   "metadata": {},
   "outputs": [
    {
     "data": {
      "text/plain": [
       "(array([73., 50., 31., 21., 10., 12., 17.,  9., 11.,  7.,  5.,  6.,  5.,\n",
       "         3.,  1.,  5.,  0.,  3.,  1.,  1.]),\n",
       " array([2.14600000e+05, 9.50816010e+08, 1.90141742e+09, 2.85201883e+09,\n",
       "        3.80262024e+09, 4.75322165e+09, 5.70382306e+09, 6.65442447e+09,\n",
       "        7.60502588e+09, 8.55562729e+09, 9.50622870e+09, 1.04568301e+10,\n",
       "        1.14074315e+10, 1.23580329e+10, 1.33086343e+10, 1.42592358e+10,\n",
       "        1.52098372e+10, 1.61604386e+10, 1.71110400e+10, 1.80616414e+10,\n",
       "        1.90122428e+10]),\n",
       " <a list of 20 Patch objects>)"
      ]
     },
     "execution_count": 11,
     "metadata": {},
     "output_type": "execute_result"
    },
    {
     "data": {
      "image/png": "[encoded data removed]",
      "text/plain": [
       "<Figure size 1440x720 with 1 Axes>"
      ]
     },
     "metadata": {
      "needs_background": "light"
     },
     "output_type": "display_data"
    }
   ],
   "source": [
    "plt.figure(figsize=(20,10))\n",
    "plt.hist(last_mkt_cap, bins=20)"
   ]
  },
  {
   "cell_type": "code",
   "execution_count": 12,
   "id": "a5ba6f5e",
   "metadata": {},
   "outputs": [],
   "source": [
    "month_end_prices = pd.read_csv(DATA_PATH.joinpath('month_end_prices.csv'))"
   ]
  },
  {
   "cell_type": "code",
   "execution_count": 13,
   "id": "8a103d8e",
   "metadata": {},
   "outputs": [
    {
     "name": "stderr",
     "output_type": "stream",
     "text": [
      "/Users/siddharthkantamneni/anaconda3/lib/python3.7/site-packages/ipykernel_launcher.py:4: TqdmDeprecationWarning: This function will be removed in tqdm==5.0.0\n",
      "Please use `tqdm.notebook.tqdm` instead of `tqdm.tqdm_notebook`\n",
      "  after removing the cwd from sys.path.\n"
     ]
    },
    {
     "data": {
      "application/vnd.jupyter.widget-view+json": {
       "model_id": "5a9ed2a4578c48468edd7e4cc08f83a6",
       "version_major": 2,
       "version_minor": 0
      },
      "text/plain": [
       "  0%|          | 0/372 [00:00<?, ?it/s]"
      ]
     },
     "metadata": {},
     "output_type": "display_data"
    }
   ],
   "source": [
    "returns = {'small': [], 'big': []}\n",
    "tickers = {'small':[], 'big': []}\n",
    "caps = {'small':[], 'big':[]}\n",
    "for tick in tqdm_notebook(market_values.tic.unique()):\n",
    "    subset = market_values[market_values.tic == tick]\n",
    "    r = pd.DataFrame()\n",
    "    inds = month_end_prices[month_end_prices.tic == tick].index\n",
    "    r = r.append(month_end_prices.loc[inds])\n",
    "    r['return'] = r.prccm.pct_change()\n",
    "    if subset.mkvaltq.values[-1] > 20_000:\n",
    "        returns['big'].append(r['return'].mean())\n",
    "        tickers['big'].append(tick)\n",
    "        caps['big'].append(subset.mkvaltq.values[-1])\n",
    "    else:\n",
    "        returns['small'].append(r['return'].mean())\n",
    "        tickers['small'].append(tick)\n",
    "        caps['small'].append(subset.mkvaltq.values[-1])"
   ]
  },
  {
   "cell_type": "code",
   "execution_count": 14,
   "id": "fca44b78",
   "metadata": {},
   "outputs": [],
   "source": [
    "npsmall = np.array(returns['small'])\n",
    "npbig = np.array(returns['big'])"
   ]
  },
  {
   "cell_type": "code",
   "execution_count": 15,
   "id": "5300a439",
   "metadata": {},
   "outputs": [
    {
     "name": "stderr",
     "output_type": "stream",
     "text": [
      "/Users/siddharthkantamneni/anaconda3/lib/python3.7/site-packages/ipykernel_launcher.py:1: RuntimeWarning: invalid value encountered in greater\n",
      "  \"\"\"Entry point for launching an IPython kernel.\n"
     ]
    },
    {
     "data": {
      "text/plain": [
       "(array([297]),)"
      ]
     },
     "execution_count": 15,
     "metadata": {},
     "output_type": "execute_result"
    }
   ],
   "source": [
    "np.where(npsmall > 5)"
   ]
  },
  {
   "cell_type": "code",
   "execution_count": 16,
   "id": "27fd6da6",
   "metadata": {},
   "outputs": [],
   "source": [
    "npsmall = np.delete(npsmall, 297)\n",
    "del tickers['small'][297]\n",
    "del returns['small'][297]\n",
    "del caps['small'][297]"
   ]
  },
  {
   "cell_type": "code",
   "execution_count": 17,
   "id": "8785b5be",
   "metadata": {},
   "outputs": [
    {
     "name": "stderr",
     "output_type": "stream",
     "text": [
      "/Users/siddharthkantamneni/anaconda3/lib/python3.7/site-packages/ipykernel_launcher.py:1: RuntimeWarning: invalid value encountered in greater\n",
      "  \"\"\"Entry point for launching an IPython kernel.\n"
     ]
    }
   ],
   "source": [
    "for t in np.where(npsmall > 5)[0]:\n",
    "    print(tickers['small'][t])\n",
    "    print(npsmall[t])"
   ]
  },
  {
   "cell_type": "code",
   "execution_count": 18,
   "id": "46e4d536",
   "metadata": {},
   "outputs": [
    {
     "data": {
      "text/plain": [
       "0.007656894662565592"
      ]
     },
     "execution_count": 18,
     "metadata": {},
     "output_type": "execute_result"
    }
   ],
   "source": [
    "np.nanmean(npsmall) - np.nanmean(npbig)"
   ]
  },
  {
   "cell_type": "code",
   "execution_count": 19,
   "id": "33a81430",
   "metadata": {},
   "outputs": [],
   "source": [
    "ticks = []\n",
    "capsize = []\n",
    "rets = []\n",
    "for i in range(len(tickers['small'])):\n",
    "    ticks.append(tickers['small'][i])\n",
    "    capsize.append(caps['small'][i])\n",
    "    rets.append(returns['small'][i])\n",
    "\n",
    "for i in range(len(tickers['big'])):\n",
    "    ticks.append(tickers['big'][i])\n",
    "    capsize.append(caps['big'][i])\n",
    "    rets.append(returns['big'][i])"
   ]
  },
  {
   "cell_type": "code",
   "execution_count": 20,
   "id": "af2e7a9a",
   "metadata": {},
   "outputs": [],
   "source": [
    "ticks = np.array(ticks)\n",
    "capsize = np.array(capsize)\n",
    "rets = np.array(rets)\n",
    "rets = np.delete(rets, np.where(np.isnan(capsize))[0])\n",
    "ticks = np.delete(ticks, np.where(np.isnan(capsize))[0])\n",
    "capsize = np.delete(capsize, np.where(np.isnan(capsize))[0])\n"
   ]
  },
  {
   "cell_type": "code",
   "execution_count": 21,
   "id": "e0bcb538",
   "metadata": {},
   "outputs": [],
   "source": [
    "q = []\n",
    "for i in range(0, 100, 10):\n",
    "    mask = np.logical_and(capsize > np.percentile(capsize,i), capsize<np.percentile(capsize,i+10))\n",
    "    rr = rets[mask]\n",
    "    q.append(np.mean(rr))"
   ]
  },
  {
   "cell_type": "code",
   "execution_count": 22,
   "id": "fcc7d638",
   "metadata": {},
   "outputs": [
    {
     "data": {
      "text/plain": [
       "<BarContainer object of 10 artists>"
      ]
     },
     "execution_count": 22,
     "metadata": {},
     "output_type": "execute_result"
    },
    {
     "data": {
      "image/png": "[encoded data removed]",
      "text/plain": [
       "<Figure size 432x288 with 1 Axes>"
      ]
     },
     "metadata": {
      "needs_background": "light"
     },
     "output_type": "display_data"
    }
   ],
   "source": [
    "plt.bar(x = range(0,100,10), height = q)"
   ]
  }
 ],
 "metadata": {
  "kernelspec": {
   "display_name": "ORIE5370",
   "language": "python",
   "name": "orie5370"
  },
  "language_info": {
   "codemirror_mode": {
    "name": "ipython",
    "version": 3
   },
   "file_extension": ".py",
   "mimetype": "text/x-python",
   "name": "python",
   "nbconvert_exporter": "python",
   "pygments_lexer": "ipython3",
   "version": "3.8.5"
  }
 },
 "nbformat": 4,
 "nbformat_minor": 5
}