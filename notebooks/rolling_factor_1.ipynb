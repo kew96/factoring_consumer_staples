{
 "cells": [
  {
   "cell_type": "code",
   "execution_count": 1,
   "metadata": {},
   "outputs": [],
   "source": [
    "from pathlib import Path\n",
    "\n",
    "import numpy as np\n",
    "import pandas as pd\n",
    "import statsmodels.api as sm"
   ]
  },
  {
   "cell_type": "code",
   "execution_count": 2,
   "metadata": {},
   "outputs": [],
   "source": [
    "def int_sum(x):\n",
    "    sum1 = 0\n",
    "    for i in range(1, x + 1):\n",
    "        sum1 += i\n",
    "    return sum1"
   ]
  },
  {
   "cell_type": "code",
   "execution_count": 3,
   "metadata": {},
   "outputs": [],
   "source": [
    "DATA_PATH = Path.cwd().parent.joinpath('data', 'processed', 'three_factor_model.txt')"
   ]
  },
  {
   "cell_type": "code",
   "execution_count": 4,
   "metadata": {},
   "outputs": [],
   "source": [
    "df = pd.read_csv(DATA_PATH, delimiter=\"\\t\")"
   ]
  },
  {
   "cell_type": "code",
   "execution_count": 5,
   "metadata": {},
   "outputs": [],
   "source": [
    "df[\"Price_tb\"] = df[\"Price_tb\"] / 100"
   ]
  },
  {
   "cell_type": "code",
   "execution_count": 6,
   "metadata": {},
   "outputs": [],
   "source": [
    "df.rename(columns={\"excess\": \"mkt_excess\"}, inplace=True)"
   ]
  },
  {
   "cell_type": "code",
   "execution_count": 7,
   "metadata": {},
   "outputs": [],
   "source": [
    "##making SMB\n",
    "dat = {'datadate': [], 'SMB value': []}\n",
    "SMB = pd.DataFrame(data=dat)\n",
    "j = 0\n",
    "for i in np.unique(df[\"datadate\"]):\n",
    "    temp = df[df.datadate == i][[\"chng\", \"mkvaltq\"]]\n",
    "\n",
    "    ten = np.nanpercentile(temp[\"mkvaltq\"], 10)\n",
    "    ninety = np.nanpercentile(temp[\"mkvaltq\"], 90)\n",
    "    small = temp[temp[\"mkvaltq\"] < ten]\n",
    "    big = temp[temp[\"mkvaltq\"] > ninety]\n",
    "    small_rets = np.nanmean(small[\"chng\"])\n",
    "    big_rets = np.nanmean(big[\"chng\"])\n",
    "    factor = small_rets - big_rets\n",
    "    SMB.loc[j] = [i, factor]\n",
    "    j += 1"
   ]
  },
  {
   "cell_type": "code",
   "execution_count": 8,
   "metadata": {},
   "outputs": [],
   "source": [
    "##making HML\n",
    "dat = {'datadate': [], 'HML value': []}\n",
    "HML = pd.DataFrame(data=dat)\n",
    "j = 0\n",
    "for i in np.unique(df[\"datadate\"]):\n",
    "    temp = df[df.datadate == i][[\"tic\", \"chng\", \"ptb\"]]\n",
    "\n",
    "    ten = np.nanpercentile(temp[\"ptb\"], 10)\n",
    "    ninety = np.nanpercentile(temp[\"ptb\"], 90)\n",
    "    value = temp[temp[\"ptb\"] < ten]\n",
    "    growth = temp[temp[\"ptb\"] > ninety]\n",
    "    val_rets = np.nanmean(value[\"chng\"])\n",
    "    growth_rets = np.nanmean(growth[\"chng\"])\n",
    "    factor = val_rets - growth_rets\n",
    "    HML.loc[j] = [i, factor]\n",
    "    j += 1"
   ]
  },
  {
   "cell_type": "code",
   "execution_count": 9,
   "metadata": {},
   "outputs": [],
   "source": [
    "df = df.merge(SMB, how=\"left\", on=\"datadate\")"
   ]
  },
  {
   "cell_type": "code",
   "execution_count": 10,
   "metadata": {},
   "outputs": [],
   "source": [
    "df = df.merge(HML, how=\"left\", on=\"datadate\")"
   ]
  },
  {
   "cell_type": "code",
   "execution_count": 11,
   "metadata": {},
   "outputs": [],
   "source": [
    "##pathlib\n",
    "##make a new data path to the directory that i want\n",
    "##call path for dunder file (__file__)\n",
    "from pathlib import Path\n",
    "\n",
    "data_Path = Path.cwd().parent.joinpath('data', 'processed', 'factor_data')\n",
    "if not data_Path.exists():\n",
    "    data_Path.mkdir()"
   ]
  },
  {
   "cell_type": "code",
   "execution_count": 12,
   "metadata": {},
   "outputs": [
    {
     "name": "stderr",
     "output_type": "stream",
     "text": [
      "/Users/siddharthkantamneni/anaconda3/lib/python3.7/site-packages/ipykernel_launcher.py:87: FutureWarning: The signature of `Series.to_csv` was aligned to that of `DataFrame.to_csv`, and argument 'header' will change its default value from False to True: please pass an explicit value to suppress this warning.\n"
     ]
    }
   ],
   "source": [
    "for xxx in np.unique(df[\"datadate\"])[20:]:\n",
    "    new_df = df[df[\"datadate\"] < xxx]\n",
    "    last_date = np.unique(new_df[\"datadate\"])[-1]\n",
    "    factors = pd.DataFrame(\n",
    "        columns=['Tic', 'Alpha', 'Beta_mkt_Exc', 'Beta_SMB', 'Beta_HML', 'p_MX', 'p_smb', 'p_hml', 'r2'])\n",
    "    q = -1\n",
    "    for tic in np.unique(new_df[\"tic\"]):\n",
    "        if new_df[new_df[\"tic\"] == tic][\"datadate\"].iloc[-1] != last_date:\n",
    "            continue\n",
    "        try:\n",
    "            q += 1\n",
    "            temp_df = new_df[new_df[\"tic\"] == tic]\n",
    "            temp_df = temp_df.reset_index(drop=True)\n",
    "            temp_df = temp_df.dropna()\n",
    "            Y = temp_df[\"chng\"] - (temp_df[\"Price_tb\"])\n",
    "            X = temp_df[[\"mkt_excess\", \"SMB value\", \"HML value\"]]\n",
    "            w = np.ones(temp_df.shape[0])\n",
    "            denom = int_sum(len(w))\n",
    "            for i in range(len(w)):\n",
    "                w[i] += i + 1\n",
    "            w = w / denom\n",
    "            model = sm.WLS(Y, X, weights=w).fit()\n",
    "            alf = 0\n",
    "            for i in range(len(w)):\n",
    "                no = 0\n",
    "                for j in range(len(model.params)):\n",
    "                    no += X.iloc[i][j] * model.params[j]\n",
    "                yes = (Y.iloc[i] - no) * w[i]\n",
    "                alf += yes\n",
    "\n",
    "            e_i = []\n",
    "            for i in range(len(w)):\n",
    "                kyo = Y.iloc[i] - alf\n",
    "                no = 0\n",
    "                for j in range(len(model.params)):\n",
    "                    no += X.iloc[i][j] * model.params[j]\n",
    "                kyo -= no\n",
    "                e_i.append(kyo)\n",
    "\n",
    "            eii = 0\n",
    "            for i in range(len(w)):\n",
    "                eii += w[i] * (e_i[i] ** 2)\n",
    "            delta[q][q] = eii\n",
    "\n",
    "            factors.loc[q] = [tic, alf, model.params[0], model.params[1], model.params[2], model.pvalues[0],\n",
    "                              model.pvalues[1],\n",
    "                              model.pvalues[2], model.rsquared]\n",
    "\n",
    "        except Exception as e:\n",
    "            continue\n",
    "    delta = np.zeros(shape=(len(np.unique(factors[\"Tic\"])), len(np.unique(factors[\"Tic\"]))))\n",
    "    B = factors[[\"Beta_mkt_Exc\", \"Beta_SMB\", \"Beta_HML\"]]\n",
    "    ## need to rewrite f\n",
    "    _, idx = np.unique(new_df[\"SMB value\"], return_index=True)\n",
    "\n",
    "    f = new_df[[\"datadate\", \"mkt_excess\", \"SMB value\", \"HML value\"]].iloc[np.sort(idx)].reset_index(drop=True)\n",
    "    w = np.zeros(len(f))\n",
    "    denom = int_sum(len(w))\n",
    "    for j in range(len(w)):\n",
    "        w[j] += j + 1\n",
    "    w = w / denom\n",
    "    F = np.zeros(shape=(3, 3))\n",
    "    for t in range(len(f)):\n",
    "\n",
    "        temp = np.zeros(3)\n",
    "        for s in range(len(f)):\n",
    "            temp = temp + w[s] * f.iloc[s][[\"mkt_excess\", \"SMB value\", \"HML value\"]]\n",
    "\n",
    "        term1 = f.iloc[t][[\"mkt_excess\", \"SMB value\", \"HML value\"]] - temp\n",
    "\n",
    "        mat1 = np.dot(np.reshape(np.array(term1), (3, 1)), np.transpose(np.reshape(np.array(term1), (3, 1))))\n",
    "        mat1 = mat1 * w[t]\n",
    "        F = F + mat1\n",
    "    V = np.dot(np.dot(np.array(B), F), np.transpose(np.array(B))) + delta\n",
    "    V = pd.DataFrame(V)\n",
    "    delta = pd.DataFrame(delta)\n",
    "    exp_ret = np.dot(B, f.iloc[-1][1:]) + factors[\"Alpha\"]\n",
    "    returns = pd.DataFrame()\n",
    "    returns[\"tic\"] = factors[\"Tic\"]\n",
    "    returns[\"expected rets\"] = exp_ret\n",
    "    returns = returns.merge(df[df[\"datadate\"] == xxx][[\"tic\", \"chng\"]], how=\"left\", on=\"tic\")\n",
    "    factor_returns = f.iloc[-1][1:]\n",
    "    load = factors[[\"Tic\", \"Alpha\", \"Beta_mkt_Exc\", \"Beta_SMB\", \"Beta_HML\"]]\n",
    "    pvals = factors[[\"Tic\", \"p_MX\", \"p_smb\", \"p_hml\"]]\n",
    "    V.to_csv(str(data_Path) + \"/\" + xxx + \"_V.txt\", sep=\"\\t\")\n",
    "    delta.to_csv(str(data_Path) + \"/\" + xxx + \"_delta.txt\", sep=\"\\t\")\n",
    "    returns.to_csv(str(data_Path) + \"/\" + xxx + \"_returns.txt\", sep=\"\\t\")\n",
    "    factor_returns.to_csv(str(data_Path) + \"/\" + xxx + \"_factor_returns.txt\", sep=\"\\t\")\n",
    "    load.to_csv(str(data_Path) + \"/\" + xxx + \"_loadings_alpha.txt\", sep=\"\\t\")\n",
    "    pvals.to_csv(str(data_Path) + \"/\" + xxx + \"_pvals.txt\", sep=\"\\t\")"
   ]
  },
  {
   "cell_type": "code",
   "execution_count": null,
   "metadata": {},
   "outputs": [],
   "source": []
  }
 ],
 "metadata": {
  "kernelspec": {
   "display_name": "Python 3",
   "language": "python",
   "name": "python3"
  },
  "language_info": {
   "codemirror_mode": {
    "name": "ipython",
    "version": 3
   },
   "file_extension": ".py",
   "mimetype": "text/x-python",
   "name": "python",
   "nbconvert_exporter": "python",
   "pygments_lexer": "ipython3",
   "version": "3.7.3"
  }
 },
 "nbformat": 4,
 "nbformat_minor": 2
}