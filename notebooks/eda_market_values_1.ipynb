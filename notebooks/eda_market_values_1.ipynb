{
 "cells": [
  {
   "cell_type": "code",
   "execution_count": 1,
   "id": "heated-harmony",
   "metadata": {},
   "outputs": [],
   "source": [
    "from pathlib import Path\n",
    "from collections import Counter\n",
    "\n",
    "import pandas as pd\n",
    "import numpy as np\n",
    "import yfinance as yf\n",
    "import matplotlib.pyplot as plt\n",
    "\n",
    "from tqdm import tqdm_notebook"
   ]
  },
  {
   "cell_type": "code",
   "execution_count": 2,
   "id": "electrical-raleigh",
   "metadata": {},
   "outputs": [],
   "source": [
    "DATA_PATH = Path.cwd().parent.joinpath('data', 'raw', 'market_values.csv')"
   ]
  },
  {
   "cell_type": "code",
   "execution_count": 3,
   "id": "outside-final",
   "metadata": {},
   "outputs": [],
   "source": [
    "market_values = pd.read_csv(DATA_PATH, usecols=\n",
    "                            [\n",
    "                                'fyearq', 'fqtr', 'fyr', 'indfmt', 'consol', 'popsrc',\n",
    "                                'datafmt', 'tic', 'conm', 'curcdq', 'datacqtr', 'datafqtr',\n",
    "                                'exchg', 'costat', 'fic', 'mkvaltq'\n",
    "                            ]\n",
    "                           )"
   ]
  },
  {
   "cell_type": "code",
   "execution_count": 4,
   "id": "technological-school",
   "metadata": {},
   "outputs": [
    {
     "data": {
      "text/html": [
       "<div>\n",
       "<style scoped>\n",
       "    .dataframe tbody tr th:only-of-type {\n",
       "        vertical-align: middle;\n",
       "    }\n",
       "\n",
       "    .dataframe tbody tr th {\n",
       "        vertical-align: top;\n",
       "    }\n",
       "\n",
       "    .dataframe thead th {\n",
       "        text-align: right;\n",
       "    }\n",
       "</style>\n",
       "<table border=\"1\" class=\"dataframe\">\n",
       "  <thead>\n",
       "    <tr style=\"text-align: right;\">\n",
       "      <th></th>\n",
       "      <th>fyearq</th>\n",
       "      <th>fqtr</th>\n",
       "      <th>fyr</th>\n",
       "      <th>indfmt</th>\n",
       "      <th>consol</th>\n",
       "      <th>popsrc</th>\n",
       "      <th>datafmt</th>\n",
       "      <th>tic</th>\n",
       "      <th>conm</th>\n",
       "      <th>curcdq</th>\n",
       "      <th>datacqtr</th>\n",
       "      <th>datafqtr</th>\n",
       "      <th>exchg</th>\n",
       "      <th>costat</th>\n",
       "      <th>fic</th>\n",
       "      <th>mkvaltq</th>\n",
       "    </tr>\n",
       "  </thead>\n",
       "  <tbody>\n",
       "    <tr>\n",
       "      <th>0</th>\n",
       "      <td>2000</td>\n",
       "      <td>1.0</td>\n",
       "      <td>12</td>\n",
       "      <td>INDL</td>\n",
       "      <td>C</td>\n",
       "      <td>D</td>\n",
       "      <td>STD</td>\n",
       "      <td>ABF</td>\n",
       "      <td>AIRBORNE INC</td>\n",
       "      <td>USD</td>\n",
       "      <td>2000Q1</td>\n",
       "      <td>2000Q1</td>\n",
       "      <td>11</td>\n",
       "      <td>I</td>\n",
       "      <td>USA</td>\n",
       "      <td>NaN</td>\n",
       "    </tr>\n",
       "    <tr>\n",
       "      <th>1</th>\n",
       "      <td>2000</td>\n",
       "      <td>2.0</td>\n",
       "      <td>12</td>\n",
       "      <td>INDL</td>\n",
       "      <td>C</td>\n",
       "      <td>D</td>\n",
       "      <td>STD</td>\n",
       "      <td>ABF</td>\n",
       "      <td>AIRBORNE INC</td>\n",
       "      <td>USD</td>\n",
       "      <td>2000Q2</td>\n",
       "      <td>2000Q2</td>\n",
       "      <td>11</td>\n",
       "      <td>I</td>\n",
       "      <td>USA</td>\n",
       "      <td>NaN</td>\n",
       "    </tr>\n",
       "    <tr>\n",
       "      <th>2</th>\n",
       "      <td>2000</td>\n",
       "      <td>3.0</td>\n",
       "      <td>12</td>\n",
       "      <td>INDL</td>\n",
       "      <td>C</td>\n",
       "      <td>D</td>\n",
       "      <td>STD</td>\n",
       "      <td>ABF</td>\n",
       "      <td>AIRBORNE INC</td>\n",
       "      <td>USD</td>\n",
       "      <td>2000Q3</td>\n",
       "      <td>2000Q3</td>\n",
       "      <td>11</td>\n",
       "      <td>I</td>\n",
       "      <td>USA</td>\n",
       "      <td>NaN</td>\n",
       "    </tr>\n",
       "    <tr>\n",
       "      <th>3</th>\n",
       "      <td>2000</td>\n",
       "      <td>4.0</td>\n",
       "      <td>12</td>\n",
       "      <td>INDL</td>\n",
       "      <td>C</td>\n",
       "      <td>D</td>\n",
       "      <td>STD</td>\n",
       "      <td>ABF</td>\n",
       "      <td>AIRBORNE INC</td>\n",
       "      <td>USD</td>\n",
       "      <td>2000Q4</td>\n",
       "      <td>2000Q4</td>\n",
       "      <td>11</td>\n",
       "      <td>I</td>\n",
       "      <td>USA</td>\n",
       "      <td>NaN</td>\n",
       "    </tr>\n",
       "    <tr>\n",
       "      <th>4</th>\n",
       "      <td>2001</td>\n",
       "      <td>1.0</td>\n",
       "      <td>12</td>\n",
       "      <td>INDL</td>\n",
       "      <td>C</td>\n",
       "      <td>D</td>\n",
       "      <td>STD</td>\n",
       "      <td>ABF</td>\n",
       "      <td>AIRBORNE INC</td>\n",
       "      <td>USD</td>\n",
       "      <td>2001Q1</td>\n",
       "      <td>2001Q1</td>\n",
       "      <td>11</td>\n",
       "      <td>I</td>\n",
       "      <td>USA</td>\n",
       "      <td>NaN</td>\n",
       "    </tr>\n",
       "  </tbody>\n",
       "</table>\n",
       "</div>"
      ],
      "text/plain": [
       "   fyearq  fqtr  fyr indfmt consol popsrc datafmt  tic          conm curcdq  \\\n",
       "0    2000   1.0   12   INDL      C      D     STD  ABF  AIRBORNE INC    USD   \n",
       "1    2000   2.0   12   INDL      C      D     STD  ABF  AIRBORNE INC    USD   \n",
       "2    2000   3.0   12   INDL      C      D     STD  ABF  AIRBORNE INC    USD   \n",
       "3    2000   4.0   12   INDL      C      D     STD  ABF  AIRBORNE INC    USD   \n",
       "4    2001   1.0   12   INDL      C      D     STD  ABF  AIRBORNE INC    USD   \n",
       "\n",
       "  datacqtr datafqtr  exchg costat  fic  mkvaltq  \n",
       "0   2000Q1   2000Q1     11      I  USA      NaN  \n",
       "1   2000Q2   2000Q2     11      I  USA      NaN  \n",
       "2   2000Q3   2000Q3     11      I  USA      NaN  \n",
       "3   2000Q4   2000Q4     11      I  USA      NaN  \n",
       "4   2001Q1   2001Q1     11      I  USA      NaN  "
      ]
     },
     "execution_count": 4,
     "metadata": {},
     "output_type": "execute_result"
    }
   ],
   "source": [
    "market_values.head()"
   ]
  },
  {
   "cell_type": "code",
   "execution_count": 5,
   "id": "steady-apollo",
   "metadata": {},
   "outputs": [
    {
     "data": {
      "text/plain": [
       "<matplotlib.axes._subplots.AxesSubplot at 0x7fbdf31e5850>"
      ]
     },
     "execution_count": 5,
     "metadata": {},
     "output_type": "execute_result"
    },
    {
     "data": {
      "image/png": "[encoded data removed]",
      "text/plain": [
       "<Figure size 432x288 with 1 Axes>"
      ]
     },
     "metadata": {
      "needs_background": "light"
     },
     "output_type": "display_data"
    }
   ],
   "source": [
    "market_values.fic.value_counts().plot(kind='bar')"
   ]
  },
  {
   "cell_type": "code",
   "execution_count": 6,
   "id": "coordinated-campaign",
   "metadata": {},
   "outputs": [],
   "source": [
    "def get_bad_data(market_values):\n",
    "    bad_data = list()\n",
    "    for ticker in market_values.tic.unique():\n",
    "        subset = market_values[market_values.tic==ticker]\n",
    "        current = 'na' if np.isnan(subset.mkvaltq.iloc[0]) else 'val'\n",
    "        for v in subset.mkvaltq[1:]:\n",
    "            if not np.isnan(v):\n",
    "                current = 'val'\n",
    "            elif current == 'val' and np.isnan(v):\n",
    "                bad_data.append((ticker, subset.conm.iloc[0]))\n",
    "                continue\n",
    "    return Counter(bad_data)"
   ]
  },
  {
   "cell_type": "code",
   "execution_count": 7,
   "id": "finnish-eating",
   "metadata": {},
   "outputs": [
    {
     "data": {
      "text/plain": [
       "Counter({('DAN', 'DANA INC'): 1,\n",
       "         ('DG', 'DOLLAR GENERAL CORP'): 10,\n",
       "         ('GM', 'GENERAL MOTORS CO'): 1,\n",
       "         ('KHC', 'KRAFT HEINZ CO'): 10,\n",
       "         ('LZB', 'LA-Z-BOY INC'): 1,\n",
       "         ('JEF', 'JEFFERIES FINANCIAL GRP INC'): 1,\n",
       "         ('NATR', 'NATURES SUNSHINE PRODS INC'): 4,\n",
       "         ('CCL', 'CARNIVAL CORPORATION & PLC'): 5,\n",
       "         ('NBEV', 'NEWAGE INC'): 2,\n",
       "         ('SMPL', 'SIMPLY GOOD FOODS COMPANY'): 5,\n",
       "         ('PFGC', 'PERFORMANCE FOOD GROUP CO'): 32,\n",
       "         ('KDP', 'KEURIG DR PEPPER INC'): 10,\n",
       "         ('LMNR', 'LIMONEIRA CO'): 4,\n",
       "         ('BTH', 'BLYTH INC'): 1,\n",
       "         ('BEAM', 'BEAM THERAPEUTICS INC'): 1,\n",
       "         ('NHTC', 'NATURAL HEALTH TRENDS CORP'): 3,\n",
       "         ('JAKK', 'JAKKS PACIFIC INC'): 1,\n",
       "         ('TTWO', 'TAKE-TWO INTERACTIVE SFTWR'): 2,\n",
       "         ('AIPC', 'AMER ITALIAN PASTA CO  -CL A'): 3,\n",
       "         ('SVM', 'SILVERCORP METALS INC'): 4,\n",
       "         ('APTV', 'APTIV PLC'): 9,\n",
       "         ('SEED', 'ORIGIN AGRITECH LTD'): 7,\n",
       "         ('CELH', 'CELSIUS HOLDINGS INC'): 1,\n",
       "         ('CZZ', 'COSAN LTD'): 2,\n",
       "         ('NOMD', 'NOMAD FOODS LTD'): 2})"
      ]
     },
     "execution_count": 7,
     "metadata": {},
     "output_type": "execute_result"
    }
   ],
   "source": [
    "bad_data_1 = get_bad_data(market_values)\n",
    "bad_data_1"
   ]
  },
  {
   "cell_type": "code",
   "execution_count": 8,
   "id": "operating-charter",
   "metadata": {},
   "outputs": [
    {
     "name": "stderr",
     "output_type": "stream",
     "text": [
      "/home/cspa33/miniconda3/envs/ORIE5370/lib/python3.8/site-packages/pandas/core/indexing.py:1720: SettingWithCopyWarning: \n",
      "A value is trying to be set on a copy of a slice from a DataFrame.\n",
      "Try using .loc[row_indexer,col_indexer] = value instead\n",
      "\n",
      "See the caveats in the documentation: https://pandas.pydata.org/pandas-docs/stable/user_guide/indexing.html#returning-a-view-versus-a-copy\n",
      "  self._setitem_single_column(loc, value, pi)\n"
     ]
    }
   ],
   "source": [
    "for elem in bad_data_1.items():\n",
    "    if elem[1] == 1:\n",
    "        subset = market_values[market_values.tic == elem[0][0]]\n",
    "        ind = subset[subset.mkvaltq.isna()].index[-1]\n",
    "        if ind == subset.index[-1]:\n",
    "            subset.loc[ind, 'mkvaltq'] = subset.loc[ind-1, 'mkvaltq']\n",
    "        else:\n",
    "            subset.loc[ind, 'mkvaltq'] = (subset.loc[ind-1, 'mkvaltq'] + subset.loc[ind+1, 'mkvaltq']) / 2\n",
    "        market_values[market_values.tic == elem[0][0]] = subset"
   ]
  },
  {
   "cell_type": "code",
   "execution_count": 9,
   "id": "everyday-vault",
   "metadata": {},
   "outputs": [
    {
     "data": {
      "text/plain": [
       "Counter({('DG', 'DOLLAR GENERAL CORP'): 10,\n",
       "         ('KHC', 'KRAFT HEINZ CO'): 10,\n",
       "         ('NATR', 'NATURES SUNSHINE PRODS INC'): 4,\n",
       "         ('CCL', 'CARNIVAL CORPORATION & PLC'): 5,\n",
       "         ('NBEV', 'NEWAGE INC'): 2,\n",
       "         ('SMPL', 'SIMPLY GOOD FOODS COMPANY'): 5,\n",
       "         ('PFGC', 'PERFORMANCE FOOD GROUP CO'): 32,\n",
       "         ('KDP', 'KEURIG DR PEPPER INC'): 10,\n",
       "         ('LMNR', 'LIMONEIRA CO'): 4,\n",
       "         ('NHTC', 'NATURAL HEALTH TRENDS CORP'): 3,\n",
       "         ('TTWO', 'TAKE-TWO INTERACTIVE SFTWR'): 2,\n",
       "         ('AIPC', 'AMER ITALIAN PASTA CO  -CL A'): 3,\n",
       "         ('SVM', 'SILVERCORP METALS INC'): 4,\n",
       "         ('APTV', 'APTIV PLC'): 9,\n",
       "         ('SEED', 'ORIGIN AGRITECH LTD'): 7,\n",
       "         ('CZZ', 'COSAN LTD'): 2,\n",
       "         ('NOMD', 'NOMAD FOODS LTD'): 2})"
      ]
     },
     "execution_count": 9,
     "metadata": {},
     "output_type": "execute_result"
    }
   ],
   "source": [
    "get_bad_data(market_values)"
   ]
  },
  {
   "cell_type": "code",
   "execution_count": 10,
   "id": "julian-imaging",
   "metadata": {},
   "outputs": [],
   "source": [
    "last_mkt_cap = list()\n",
    "for tick in market_values.tic.unique():\n",
    "    subset = market_values[market_values.tic == tick]\n",
    "    val = subset.mkvaltq.values[-1]\n",
    "    if not np.isnan(val):\n",
    "        if val*1_000_000 < 0.2*100_000_000_000:\n",
    "#             print(f'{tick}: {val*1_000_000:,}')\n",
    "            last_mkt_cap.append(subset.mkvaltq.values[-1]*1_000_000)"
   ]
  },
  {
   "cell_type": "code",
   "execution_count": 11,
   "id": "small-toyota",
   "metadata": {},
   "outputs": [
    {
     "data": {
      "text/plain": [
       "(array([73., 50., 31., 21., 10., 12., 17.,  9., 11.,  7.,  5.,  6.,  5.,\n",
       "         3.,  1.,  5.,  0.,  3.,  1.,  1.]),\n",
       " array([2.14600000e+05, 9.50816010e+08, 1.90141742e+09, 2.85201883e+09,\n",
       "        3.80262024e+09, 4.75322165e+09, 5.70382306e+09, 6.65442447e+09,\n",
       "        7.60502588e+09, 8.55562729e+09, 9.50622870e+09, 1.04568301e+10,\n",
       "        1.14074315e+10, 1.23580329e+10, 1.33086343e+10, 1.42592358e+10,\n",
       "        1.52098372e+10, 1.61604386e+10, 1.71110400e+10, 1.80616414e+10,\n",
       "        1.90122428e+10]),\n",
       " <a list of 20 Patch objects>)"
      ]
     },
     "execution_count": 11,
     "metadata": {},
     "output_type": "execute_result"
    },
    {
     "data": {
      "image/png": "[encoded data removed]",
      "text/plain": [
       "<Figure size 1440x720 with 1 Axes>"
      ]
     },
     "metadata": {
      "needs_background": "light"
     },
     "output_type": "display_data"
    }
   ],
   "source": [
    "plt.figure(figsize=(20,10))\n",
    "plt.hist(last_mkt_cap, bins=20)"
   ]
  },
  {
   "cell_type": "code",
   "execution_count": 12,
   "id": "affected-champagne",
   "metadata": {},
   "outputs": [
    {
     "name": "stderr",
     "output_type": "stream",
     "text": [
      "<ipython-input-12-2cd50525494d>:3: TqdmDeprecationWarning: This function will be removed in tqdm==5.0.0\n",
      "Please use `tqdm.notebook.tqdm` instead of `tqdm.tqdm_notebook`\n",
      "  for tick in tqdm_notebook(market_values.tic.unique()):\n"
     ]
    },
    {
     "data": {
      "application/vnd.jupyter.widget-view+json": {
       "model_id": "f4d1a487fa21415ebfe490bbebf8d1d5",
       "version_major": 2,
       "version_minor": 0
      },
      "text/plain": [
       "  0%|          | 0/372 [00:00<?, ?it/s]"
      ]
     },
     "metadata": {},
     "output_type": "display_data"
    },
    {
     "name": "stdout",
     "output_type": "stream",
     "text": [
      "\n",
      "1 Failed download:\n",
      "- AVP: No data found, symbol may be delisted\n",
      "\n",
      "1 Failed download:\n",
      "- BOBE: No data found for this date range, symbol may be delisted\n",
      "\n",
      "1 Failed download:\n",
      "- BF.B: No data found for this date range, symbol may be delisted\n",
      "\n",
      "1 Failed download:\n",
      "- CDSCY: No data found, symbol may be delisted\n",
      "\n",
      "1 Failed download:\n",
      "- CHTT: No data found for this date range, symbol may be delisted\n",
      "\n",
      "1 Failed download:\n",
      "- DRYR: No data found for this date range, symbol may be delisted\n",
      "\n",
      "1 Failed download:\n",
      "- KTII: No data found for this date range, symbol may be delisted\n",
      "\n",
      "1 Failed download:\n",
      "- KWD: No data found for this date range, symbol may be delisted\n",
      "\n",
      "1 Failed download:\n",
      "- LNCE: No data found for this date range, symbol may be delisted\n",
      "\n",
      "1 Failed download:\n",
      "- KATE: No data found for this date range, symbol may be delisted\n",
      "\n",
      "1 Failed download:\n",
      "- RYL: No data found for this date range, symbol may be delisted\n",
      "\n",
      "1 Failed download:\n",
      "- SWY: No data found for this date range, symbol may be delisted\n",
      "\n",
      "1 Failed download:\n",
      "- HSH: No data found for this date range, symbol may be delisted\n",
      "\n",
      "1 Failed download:\n",
      "- CAA: No data found for this date range, symbol may be delisted\n",
      "\n",
      "1 Failed download:\n",
      "- SVU: No data found for this date range, symbol may be delisted\n",
      "\n",
      "1 Failed download:\n",
      "- CQB: No data found for this date range, symbol may be delisted\n",
      "\n",
      "1 Failed download:\n",
      "- HAR: No data found for this date range, symbol may be delisted\n",
      "\n",
      "1 Failed download:\n",
      "- WWAV: No data found for this date range, symbol may be delisted\n",
      "\n",
      "1 Failed download:\n",
      "- BID: No data found, symbol may be delisted\n",
      "\n",
      "1 Failed download:\n",
      "- CSG: No data found for this date range, symbol may be delisted\n",
      "\n",
      "1 Failed download:\n",
      "- ENZY: No data found for this date range, symbol may be delisted\n",
      "\n",
      "1 Failed download:\n",
      "- FGL: No data found for this date range, symbol may be delisted\n",
      "\n",
      "1 Failed download:\n",
      "- SFS: No data found, symbol may be delisted\n",
      "\n",
      "1 Failed download:\n",
      "- DPLO: No data found, symbol may be delisted\n",
      "\n",
      "1 Failed download:\n",
      "- IMC: No data found for this date range, symbol may be delisted\n",
      "\n",
      "1 Failed download:\n",
      "- SONC: No data found for this date range, symbol may be delisted\n",
      "\n",
      "1 Failed download:\n",
      "- PNRA: No data found for this date range, symbol may be delisted\n",
      "\n",
      "1 Failed download:\n",
      "- WFM: No data found for this date range, symbol may be delisted\n",
      "\n",
      "1 Failed download:\n",
      "- BETR: No data found for this date range, symbol may be delisted\n",
      "\n",
      "1 Failed download:\n",
      "- AITP: No data found, symbol may be delisted\n",
      "\n",
      "1 Failed download:\n",
      "- APFH: No data found for this date range, symbol may be delisted\n",
      "\n",
      "1 Failed download:\n",
      "- JAH: No data found for this date range, symbol may be delisted\n",
      "\n",
      "1 Failed download:\n",
      "- MOND: No data found for this date range, symbol may be delisted\n",
      "\n",
      "1 Failed download:\n",
      "- MATK: No data found for this date range, symbol may be delisted\n",
      "\n",
      "1 Failed download:\n",
      "- APOL: No data found for this date range, symbol may be delisted\n",
      "\n",
      "1 Failed download:\n",
      "- NTRI: No data found, symbol may be delisted\n",
      "\n",
      "1 Failed download:\n",
      "- PTRY: No data found for this date range, symbol may be delisted\n",
      "\n",
      "1 Failed download:\n",
      "- DLPH: No data found, symbol may be delisted\n",
      "\n",
      "1 Failed download:\n",
      "- CPAA: No data found, symbol may be delisted\n",
      "\n",
      "1 Failed download:\n",
      "- OO: No data found for this date range, symbol may be delisted\n",
      "\n",
      "1 Failed download:\n",
      "- RDEN: No data found for this date range, symbol may be delisted\n",
      "\n",
      "1 Failed download:\n",
      "- OATS: No data found for this date range, symbol may be delisted\n",
      "\n",
      "1 Failed download:\n",
      "- TIVO: No data found, symbol may be delisted\n",
      "\n",
      "1 Failed download:\n",
      "- AIPC: No data found, symbol may be delisted\n",
      "\n",
      "1 Failed download:\n",
      "- OME: No data found for this date range, symbol may be delisted\n",
      "\n",
      "1 Failed download:\n",
      "- RAI: No data found for this date range, symbol may be delisted\n",
      "\n",
      "1 Failed download:\n",
      "- ADY: No data found for this date range, symbol may be delisted\n",
      "\n",
      "1 Failed download:\n",
      "- KKD: No data found for this date range, symbol may be delisted\n",
      "\n",
      "1 Failed download:\n",
      "- LEXR: No data found for this date range, symbol may be delisted\n",
      "\n",
      "1 Failed download:\n",
      "- ETP: No data found for this date range, symbol may be delisted\n",
      "\n",
      "1 Failed download:\n",
      "- SNMX: No data found for this date range, symbol may be delisted\n",
      "\n",
      "1 Failed download:\n",
      "- COL: No data found for this date range, symbol may be delisted\n",
      "\n",
      "1 Failed download:\n",
      "- LO: No data found for this date range, symbol may be delisted\n",
      "\n",
      "1 Failed download:\n",
      "- WBD: No data found for this date range, symbol may be delisted\n",
      "\n",
      "1 Failed download:\n",
      "- DMND: No data found for this date range, symbol may be delisted\n",
      "\n",
      "1 Failed download:\n",
      "- CHBT: No data found for this date range, symbol may be delisted\n",
      "\n",
      "1 Failed download:\n",
      "- BDBD: No data found for this date range, symbol may be delisted\n",
      "\n",
      "1 Failed download:\n",
      "- SUSS: No data found for this date range, symbol may be delisted\n",
      "\n",
      "1 Failed download:\n",
      "- BATS: No data found for this date range, symbol may be delisted\n",
      "\n",
      "1 Failed download:\n",
      "- BARE: No data found, symbol may be delisted\n",
      "\n",
      "1 Failed download:\n",
      "- WBC: No data found, symbol may be delisted\n",
      "\n",
      "1 Failed download:\n",
      "- DPS: No data found for this date range, symbol may be delisted\n",
      "\n",
      "1 Failed download:\n",
      "- MJN: No data found for this date range, symbol may be delisted\n",
      "\n",
      "1 Failed download:\n",
      "- MYG: No data found for this date range, symbol may be delisted\n",
      "\n",
      "1 Failed download:\n",
      "- TFM: No data found for this date range, symbol may be delisted\n",
      "\n",
      "1 Failed download:\n",
      "- PF: No data found for this date range, symbol may be delisted\n",
      "\n",
      "1 Failed download:\n",
      "- SODA: No data found for this date range, symbol may be delisted\n",
      "\n",
      "1 Failed download:\n",
      "- BNNY: No data found for this date range, symbol may be delisted\n",
      "\n",
      "1 Failed download:\n",
      "- RNDY: No data found for this date range, symbol may be delisted\n"
     ]
    }
   ],
   "source": [
    "returns = {'small': [], 'big': []}\n",
    "\n",
    "for tick in tqdm_notebook(market_values.tic.unique()):\n",
    "    subset = market_values[market_values.tic == tick]\n",
    "    r = yf.download(tick, start='2000-01-01', end='2020-12-31', interval='3mo', progress=False)\n",
    "    r['return'] = r.Close.pct_change()\n",
    "    if subset.mkvaltq.values[-1] > 100_000_000_000:\n",
    "        returns['big'].append(r['return'].mean())\n",
    "    else:\n",
    "        returns['small'].append(r['return'].mean())"
   ]
  },
  {
   "cell_type": "code",
   "execution_count": 13,
   "id": "likely-portland",
   "metadata": {},
   "outputs": [
    {
     "name": "stdout",
     "output_type": "stream",
     "text": [
      "\n",
      "1 Failed download:\n",
      "- RNDY: No data found for this date range, symbol may be delisted\n"
     ]
    }
   ],
   "source": [
    "test = yf.download('RNDY', start='2000-01-01', end='2020-12-31', interval='3mo', progress=False)"
   ]
  },
  {
   "cell_type": "code",
   "execution_count": 14,
   "id": "protected-delight",
   "metadata": {},
   "outputs": [
    {
     "name": "stdout",
     "output_type": "stream",
     "text": [
      "small: nan\n",
      "big: nan\n"
     ]
    },
    {
     "name": "stderr",
     "output_type": "stream",
     "text": [
      "/home/cspa33/miniconda3/envs/ORIE5370/lib/python3.8/site-packages/numpy/core/fromnumeric.py:3372: RuntimeWarning: Mean of empty slice.\n",
      "  return _methods._mean(a, axis=axis, dtype=dtype,\n",
      "/home/cspa33/miniconda3/envs/ORIE5370/lib/python3.8/site-packages/numpy/core/_methods.py:170: RuntimeWarning: invalid value encountered in double_scalars\n",
      "  ret = ret.dtype.type(ret / rcount)\n"
     ]
    }
   ],
   "source": [
    "for item in returns.items():\n",
    "    print(f'{item[0]}: {np.mean(item[1])}')"
   ]
  },
  {
   "cell_type": "code",
   "execution_count": 15,
   "id": "scheduled-alcohol",
   "metadata": {},
   "outputs": [
    {
     "ename": "TypeError",
     "evalue": "_mean_dispatcher() missing 1 required positional argument: 'a'",
     "output_type": "error",
     "traceback": [
      "\u001b[0;31m---------------------------------------------------------------------------\u001b[0m",
      "\u001b[0;31mTypeError\u001b[0m                                 Traceback (most recent call last)",
      "\u001b[0;32m<ipython-input-15-0c998bb62981>\u001b[0m in \u001b[0;36m<module>\u001b[0;34m\u001b[0m\n\u001b[0;32m----> 1\u001b[0;31m \u001b[0mnp\u001b[0m\u001b[0;34m.\u001b[0m\u001b[0mmean\u001b[0m\u001b[0;34m(\u001b[0m\u001b[0;34m)\u001b[0m\u001b[0;34m\u001b[0m\u001b[0;34m\u001b[0m\u001b[0m\n\u001b[0m",
      "\u001b[0;32m<__array_function__ internals>\u001b[0m in \u001b[0;36mmean\u001b[0;34m(*args, **kwargs)\u001b[0m\n",
      "\u001b[0;31mTypeError\u001b[0m: _mean_dispatcher() missing 1 required positional argument: 'a'"
     ]
    }
   ],
   "source": [
    "np.mean()"
   ]
  }
 ],
 "metadata": {
  "kernelspec": {
   "display_name": "ORIE5370",
   "language": "python",
   "name": "orie5370"
  },
  "language_info": {
   "codemirror_mode": {
    "name": "ipython",
    "version": 3
   },
   "file_extension": ".py",
   "mimetype": "text/x-python",
   "name": "python",
   "nbconvert_exporter": "python",
   "pygments_lexer": "ipython3",
   "version": "3.8.5"
  }
 },
 "nbformat": 4,
 "nbformat_minor": 5
}
