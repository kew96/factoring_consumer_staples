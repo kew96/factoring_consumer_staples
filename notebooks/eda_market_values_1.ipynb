{
 "cells": [
  {
   "cell_type": "code",
   "execution_count": 40,
   "id": "accessory-ecuador",
   "metadata": {},
   "outputs": [],
   "source": [
    "from pathlib import Path\n",
    "from collections import Counter\n",
    "\n",
    "import pandas as pd\n",
    "import numpy as np\n",
    "import matplotlib.pyplot as plt"
   ]
  },
  {
   "cell_type": "code",
   "execution_count": 2,
   "id": "satellite-camcorder",
   "metadata": {},
   "outputs": [],
   "source": [
    "DATA_PATH = Path.cwd().parent.joinpath('data', 'raw', 'market_values.csv')"
   ]
  },
  {
   "cell_type": "code",
   "execution_count": 3,
   "id": "involved-horse",
   "metadata": {},
   "outputs": [],
   "source": [
    "market_values = pd.read_csv(DATA_PATH, usecols=\n",
    "                            [\n",
    "                                'fyearq', 'fqtr', 'fyr', 'indfmt', 'consol', 'popsrc',\n",
    "                                'datafmt', 'tic', 'conm', 'curcdq', 'datacqtr', 'datafqtr',\n",
    "                                'exchg', 'costat', 'fic', 'mkvaltq'\n",
    "                            ]\n",
    "                           )"
   ]
  },
  {
   "cell_type": "code",
   "execution_count": 4,
   "id": "comfortable-machinery",
   "metadata": {},
   "outputs": [
    {
     "data": {
      "text/html": [
       "<div>\n",
       "<style scoped>\n",
       "    .dataframe tbody tr th:only-of-type {\n",
       "        vertical-align: middle;\n",
       "    }\n",
       "\n",
       "    .dataframe tbody tr th {\n",
       "        vertical-align: top;\n",
       "    }\n",
       "\n",
       "    .dataframe thead th {\n",
       "        text-align: right;\n",
       "    }\n",
       "</style>\n",
       "<table border=\"1\" class=\"dataframe\">\n",
       "  <thead>\n",
       "    <tr style=\"text-align: right;\">\n",
       "      <th></th>\n",
       "      <th>fyearq</th>\n",
       "      <th>fqtr</th>\n",
       "      <th>fyr</th>\n",
       "      <th>indfmt</th>\n",
       "      <th>consol</th>\n",
       "      <th>popsrc</th>\n",
       "      <th>datafmt</th>\n",
       "      <th>tic</th>\n",
       "      <th>conm</th>\n",
       "      <th>curcdq</th>\n",
       "      <th>datacqtr</th>\n",
       "      <th>datafqtr</th>\n",
       "      <th>exchg</th>\n",
       "      <th>costat</th>\n",
       "      <th>fic</th>\n",
       "      <th>mkvaltq</th>\n",
       "    </tr>\n",
       "  </thead>\n",
       "  <tbody>\n",
       "    <tr>\n",
       "      <th>0</th>\n",
       "      <td>2000</td>\n",
       "      <td>1.0</td>\n",
       "      <td>12</td>\n",
       "      <td>INDL</td>\n",
       "      <td>C</td>\n",
       "      <td>D</td>\n",
       "      <td>STD</td>\n",
       "      <td>ABF</td>\n",
       "      <td>AIRBORNE INC</td>\n",
       "      <td>USD</td>\n",
       "      <td>2000Q1</td>\n",
       "      <td>2000Q1</td>\n",
       "      <td>11</td>\n",
       "      <td>I</td>\n",
       "      <td>USA</td>\n",
       "      <td>NaN</td>\n",
       "    </tr>\n",
       "    <tr>\n",
       "      <th>1</th>\n",
       "      <td>2000</td>\n",
       "      <td>2.0</td>\n",
       "      <td>12</td>\n",
       "      <td>INDL</td>\n",
       "      <td>C</td>\n",
       "      <td>D</td>\n",
       "      <td>STD</td>\n",
       "      <td>ABF</td>\n",
       "      <td>AIRBORNE INC</td>\n",
       "      <td>USD</td>\n",
       "      <td>2000Q2</td>\n",
       "      <td>2000Q2</td>\n",
       "      <td>11</td>\n",
       "      <td>I</td>\n",
       "      <td>USA</td>\n",
       "      <td>NaN</td>\n",
       "    </tr>\n",
       "    <tr>\n",
       "      <th>2</th>\n",
       "      <td>2000</td>\n",
       "      <td>3.0</td>\n",
       "      <td>12</td>\n",
       "      <td>INDL</td>\n",
       "      <td>C</td>\n",
       "      <td>D</td>\n",
       "      <td>STD</td>\n",
       "      <td>ABF</td>\n",
       "      <td>AIRBORNE INC</td>\n",
       "      <td>USD</td>\n",
       "      <td>2000Q3</td>\n",
       "      <td>2000Q3</td>\n",
       "      <td>11</td>\n",
       "      <td>I</td>\n",
       "      <td>USA</td>\n",
       "      <td>NaN</td>\n",
       "    </tr>\n",
       "    <tr>\n",
       "      <th>3</th>\n",
       "      <td>2000</td>\n",
       "      <td>4.0</td>\n",
       "      <td>12</td>\n",
       "      <td>INDL</td>\n",
       "      <td>C</td>\n",
       "      <td>D</td>\n",
       "      <td>STD</td>\n",
       "      <td>ABF</td>\n",
       "      <td>AIRBORNE INC</td>\n",
       "      <td>USD</td>\n",
       "      <td>2000Q4</td>\n",
       "      <td>2000Q4</td>\n",
       "      <td>11</td>\n",
       "      <td>I</td>\n",
       "      <td>USA</td>\n",
       "      <td>NaN</td>\n",
       "    </tr>\n",
       "    <tr>\n",
       "      <th>4</th>\n",
       "      <td>2001</td>\n",
       "      <td>1.0</td>\n",
       "      <td>12</td>\n",
       "      <td>INDL</td>\n",
       "      <td>C</td>\n",
       "      <td>D</td>\n",
       "      <td>STD</td>\n",
       "      <td>ABF</td>\n",
       "      <td>AIRBORNE INC</td>\n",
       "      <td>USD</td>\n",
       "      <td>2001Q1</td>\n",
       "      <td>2001Q1</td>\n",
       "      <td>11</td>\n",
       "      <td>I</td>\n",
       "      <td>USA</td>\n",
       "      <td>NaN</td>\n",
       "    </tr>\n",
       "  </tbody>\n",
       "</table>\n",
       "</div>"
      ],
      "text/plain": [
       "   fyearq  fqtr  fyr indfmt consol popsrc datafmt  tic          conm curcdq  \\\n",
       "0    2000   1.0   12   INDL      C      D     STD  ABF  AIRBORNE INC    USD   \n",
       "1    2000   2.0   12   INDL      C      D     STD  ABF  AIRBORNE INC    USD   \n",
       "2    2000   3.0   12   INDL      C      D     STD  ABF  AIRBORNE INC    USD   \n",
       "3    2000   4.0   12   INDL      C      D     STD  ABF  AIRBORNE INC    USD   \n",
       "4    2001   1.0   12   INDL      C      D     STD  ABF  AIRBORNE INC    USD   \n",
       "\n",
       "  datacqtr datafqtr  exchg costat  fic  mkvaltq  \n",
       "0   2000Q1   2000Q1     11      I  USA      NaN  \n",
       "1   2000Q2   2000Q2     11      I  USA      NaN  \n",
       "2   2000Q3   2000Q3     11      I  USA      NaN  \n",
       "3   2000Q4   2000Q4     11      I  USA      NaN  \n",
       "4   2001Q1   2001Q1     11      I  USA      NaN  "
      ]
     },
     "execution_count": 4,
     "metadata": {},
     "output_type": "execute_result"
    }
   ],
   "source": [
    "market_values.head()"
   ]
  },
  {
   "cell_type": "code",
   "execution_count": 5,
   "id": "vertical-venice",
   "metadata": {},
   "outputs": [
    {
     "data": {
      "text/plain": [
       "<AxesSubplot:>"
      ]
     },
     "execution_count": 5,
     "metadata": {},
     "output_type": "execute_result"
    },
    {
     "data": {
      "image/png": "[encoded data removed]",
      "text/plain": [
       "<Figure size 432x288 with 1 Axes>"
      ]
     },
     "metadata": {
      "needs_background": "light"
     },
     "output_type": "display_data"
    }
   ],
   "source": [
    "market_values.fic.value_counts().plot(kind='bar')"
   ]
  },
  {
   "cell_type": "code",
   "execution_count": 43,
   "id": "successful-determination",
   "metadata": {},
   "outputs": [],
   "source": [
    "bad_data = list()\n",
    "for ticker in market_values.tic.unique():\n",
    "    subset = market_values[market_values.tic==ticker]\n",
    "    current = 'na' if np.isnan(subset.mkvaltq.iloc[0]) else 'val'\n",
    "    for v in subset.mkvaltq[1:]:\n",
    "        if not np.isnan(v):\n",
    "            current = 'val'\n",
    "        elif current == 'val' and np.isnan(v):\n",
    "            bad_data.append((ticker, subset.conm.iloc[0]))\n",
    "            continue"
   ]
  },
  {
   "cell_type": "code",
   "execution_count": 44,
   "id": "strange-sweden",
   "metadata": {},
   "outputs": [
    {
     "data": {
      "text/plain": [
       "Counter({('DAN', 'DANA INC'): 1,\n",
       "         ('DG', 'DOLLAR GENERAL CORP'): 10,\n",
       "         ('GM', 'GENERAL MOTORS CO'): 1,\n",
       "         ('KHC', 'KRAFT HEINZ CO'): 10,\n",
       "         ('LZB', 'LA-Z-BOY INC'): 1,\n",
       "         ('JEF', 'JEFFERIES FINANCIAL GRP INC'): 1,\n",
       "         ('NATR', 'NATURES SUNSHINE PRODS INC'): 4,\n",
       "         ('CCL', 'CARNIVAL CORPORATION & PLC'): 5,\n",
       "         ('NBEV', 'NEWAGE INC'): 2,\n",
       "         ('SMPL', 'SIMPLY GOOD FOODS COMPANY'): 5,\n",
       "         ('PFGC', 'PERFORMANCE FOOD GROUP CO'): 32,\n",
       "         ('KDP', 'KEURIG DR PEPPER INC'): 10,\n",
       "         ('LMNR', 'LIMONEIRA CO'): 4,\n",
       "         ('BTH', 'BLYTH INC'): 1,\n",
       "         ('BEAM', 'BEAM THERAPEUTICS INC'): 1,\n",
       "         ('NHTC', 'NATURAL HEALTH TRENDS CORP'): 3,\n",
       "         ('JAKK', 'JAKKS PACIFIC INC'): 1,\n",
       "         ('TTWO', 'TAKE-TWO INTERACTIVE SFTWR'): 2,\n",
       "         ('AIPC', 'AMER ITALIAN PASTA CO  -CL A'): 3,\n",
       "         ('SVM', 'SILVERCORP METALS INC'): 4,\n",
       "         ('APTV', 'APTIV PLC'): 9,\n",
       "         ('SEED', 'ORIGIN AGRITECH LTD'): 7,\n",
       "         ('CELH', 'CELSIUS HOLDINGS INC'): 1,\n",
       "         ('CZZ', 'COSAN LTD'): 2,\n",
       "         ('NOMD', 'NOMAD FOODS LTD'): 2})"
      ]
     },
     "execution_count": 44,
     "metadata": {},
     "output_type": "execute_result"
    }
   ],
   "source": [
    "Counter(bad_data)"
   ]
  }
 ],
 "metadata": {
  "kernelspec": {
   "display_name": "ORIE5370",
   "language": "python",
   "name": "orie5370"
  },
  "language_info": {
   "codemirror_mode": {
    "name": "ipython",
    "version": 3
   },
   "file_extension": ".py",
   "mimetype": "text/x-python",
   "name": "python",
   "nbconvert_exporter": "python",
   "pygments_lexer": "ipython3",
   "version": "3.8.5"
  }
 },
 "nbformat": 4,
 "nbformat_minor": 5
}
