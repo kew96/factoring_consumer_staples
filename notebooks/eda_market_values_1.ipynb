{
 "cells": [
  {
   "cell_type": "code",
   "execution_count": 1,
   "metadata": {},
   "outputs": [],
   "source": [
    "from pathlib import Path\n",
    "from collections import Counter\n",
    "\n",
    "import pandas as pd\n",
    "import numpy as np\n",
    "import yfinance as yf\n",
    "import matplotlib.pyplot as plt\n",
    "\n",
    "from tqdm import tqdm_notebook"
   ]
  },
  {
   "cell_type": "code",
   "execution_count": 2,
   "metadata": {},
   "outputs": [],
   "source": [
    "DATA_PATH = Path.cwd().parent.joinpath('data', 'raw')"
   ]
  },
  {
   "cell_type": "code",
   "execution_count": 3,
   "metadata": {},
   "outputs": [],
   "source": [
    "market_values = pd.read_csv(DATA_PATH.joinpath('market_values.csv'), usecols=\n",
    "                            [\n",
    "                                'fyearq', 'fqtr', 'fyr', 'indfmt', 'consol', 'popsrc',\n",
    "                                'datafmt', 'tic', 'conm', 'curcdq', 'datacqtr', 'datafqtr',\n",
    "                                'exchg', 'costat', 'fic', 'mkvaltq'\n",
    "                            ]\n",
    "                           )"
   ]
  },
  {
   "cell_type": "code",
   "execution_count": 4,
   "metadata": {},
   "outputs": [
    {
     "data": {
      "text/html": [
       "<div>\n",
       "<style scoped>\n",
       "    .dataframe tbody tr th:only-of-type {\n",
       "        vertical-align: middle;\n",
       "    }\n",
       "\n",
       "    .dataframe tbody tr th {\n",
       "        vertical-align: top;\n",
       "    }\n",
       "\n",
       "    .dataframe thead th {\n",
       "        text-align: right;\n",
       "    }\n",
       "</style>\n",
       "<table border=\"1\" class=\"dataframe\">\n",
       "  <thead>\n",
       "    <tr style=\"text-align: right;\">\n",
       "      <th></th>\n",
       "      <th>fyearq</th>\n",
       "      <th>fqtr</th>\n",
       "      <th>fyr</th>\n",
       "      <th>indfmt</th>\n",
       "      <th>consol</th>\n",
       "      <th>popsrc</th>\n",
       "      <th>datafmt</th>\n",
       "      <th>tic</th>\n",
       "      <th>conm</th>\n",
       "      <th>curcdq</th>\n",
       "      <th>datacqtr</th>\n",
       "      <th>datafqtr</th>\n",
       "      <th>exchg</th>\n",
       "      <th>costat</th>\n",
       "      <th>fic</th>\n",
       "      <th>mkvaltq</th>\n",
       "    </tr>\n",
       "  </thead>\n",
       "  <tbody>\n",
       "    <tr>\n",
       "      <th>0</th>\n",
       "      <td>2000</td>\n",
       "      <td>1.0</td>\n",
       "      <td>12</td>\n",
       "      <td>INDL</td>\n",
       "      <td>C</td>\n",
       "      <td>D</td>\n",
       "      <td>STD</td>\n",
       "      <td>ABF</td>\n",
       "      <td>AIRBORNE INC</td>\n",
       "      <td>USD</td>\n",
       "      <td>2000Q1</td>\n",
       "      <td>2000Q1</td>\n",
       "      <td>11</td>\n",
       "      <td>I</td>\n",
       "      <td>USA</td>\n",
       "      <td>NaN</td>\n",
       "    </tr>\n",
       "    <tr>\n",
       "      <th>1</th>\n",
       "      <td>2000</td>\n",
       "      <td>2.0</td>\n",
       "      <td>12</td>\n",
       "      <td>INDL</td>\n",
       "      <td>C</td>\n",
       "      <td>D</td>\n",
       "      <td>STD</td>\n",
       "      <td>ABF</td>\n",
       "      <td>AIRBORNE INC</td>\n",
       "      <td>USD</td>\n",
       "      <td>2000Q2</td>\n",
       "      <td>2000Q2</td>\n",
       "      <td>11</td>\n",
       "      <td>I</td>\n",
       "      <td>USA</td>\n",
       "      <td>NaN</td>\n",
       "    </tr>\n",
       "    <tr>\n",
       "      <th>2</th>\n",
       "      <td>2000</td>\n",
       "      <td>3.0</td>\n",
       "      <td>12</td>\n",
       "      <td>INDL</td>\n",
       "      <td>C</td>\n",
       "      <td>D</td>\n",
       "      <td>STD</td>\n",
       "      <td>ABF</td>\n",
       "      <td>AIRBORNE INC</td>\n",
       "      <td>USD</td>\n",
       "      <td>2000Q3</td>\n",
       "      <td>2000Q3</td>\n",
       "      <td>11</td>\n",
       "      <td>I</td>\n",
       "      <td>USA</td>\n",
       "      <td>NaN</td>\n",
       "    </tr>\n",
       "    <tr>\n",
       "      <th>3</th>\n",
       "      <td>2000</td>\n",
       "      <td>4.0</td>\n",
       "      <td>12</td>\n",
       "      <td>INDL</td>\n",
       "      <td>C</td>\n",
       "      <td>D</td>\n",
       "      <td>STD</td>\n",
       "      <td>ABF</td>\n",
       "      <td>AIRBORNE INC</td>\n",
       "      <td>USD</td>\n",
       "      <td>2000Q4</td>\n",
       "      <td>2000Q4</td>\n",
       "      <td>11</td>\n",
       "      <td>I</td>\n",
       "      <td>USA</td>\n",
       "      <td>NaN</td>\n",
       "    </tr>\n",
       "    <tr>\n",
       "      <th>4</th>\n",
       "      <td>2001</td>\n",
       "      <td>1.0</td>\n",
       "      <td>12</td>\n",
       "      <td>INDL</td>\n",
       "      <td>C</td>\n",
       "      <td>D</td>\n",
       "      <td>STD</td>\n",
       "      <td>ABF</td>\n",
       "      <td>AIRBORNE INC</td>\n",
       "      <td>USD</td>\n",
       "      <td>2001Q1</td>\n",
       "      <td>2001Q1</td>\n",
       "      <td>11</td>\n",
       "      <td>I</td>\n",
       "      <td>USA</td>\n",
       "      <td>NaN</td>\n",
       "    </tr>\n",
       "  </tbody>\n",
       "</table>\n",
       "</div>"
      ],
      "text/plain": [
       "   fyearq  fqtr  fyr indfmt consol popsrc datafmt  tic          conm curcdq  \\\n",
       "0    2000   1.0   12   INDL      C      D     STD  ABF  AIRBORNE INC    USD   \n",
       "1    2000   2.0   12   INDL      C      D     STD  ABF  AIRBORNE INC    USD   \n",
       "2    2000   3.0   12   INDL      C      D     STD  ABF  AIRBORNE INC    USD   \n",
       "3    2000   4.0   12   INDL      C      D     STD  ABF  AIRBORNE INC    USD   \n",
       "4    2001   1.0   12   INDL      C      D     STD  ABF  AIRBORNE INC    USD   \n",
       "\n",
       "  datacqtr datafqtr  exchg costat  fic  mkvaltq  \n",
       "0   2000Q1   2000Q1     11      I  USA      NaN  \n",
       "1   2000Q2   2000Q2     11      I  USA      NaN  \n",
       "2   2000Q3   2000Q3     11      I  USA      NaN  \n",
       "3   2000Q4   2000Q4     11      I  USA      NaN  \n",
       "4   2001Q1   2001Q1     11      I  USA      NaN  "
      ]
     },
     "execution_count": 4,
     "metadata": {},
     "output_type": "execute_result"
    }
   ],
   "source": [
    "market_values.head()"
   ]
  },
  {
   "cell_type": "code",
   "execution_count": 5,
   "metadata": {},
   "outputs": [
    {
     "data": {
      "text/plain": [
       "<matplotlib.axes._subplots.AxesSubplot at 0x7f8dc940b550>"
      ]
     },
     "execution_count": 5,
     "metadata": {},
     "output_type": "execute_result"
    },
    {
     "data": {
      "image/png": "[encoded data removed]",
      "text/plain": [
       "<Figure size 432x288 with 1 Axes>"
      ]
     },
     "metadata": {
      "needs_background": "light"
     },
     "output_type": "display_data"
    }
   ],
   "source": [
    "market_values.fic.value_counts().plot(kind='bar')"
   ]
  },
  {
   "cell_type": "code",
   "execution_count": 6,
   "metadata": {},
   "outputs": [],
   "source": [
    "def get_bad_data(market_values):\n",
    "    bad_data = list()\n",
    "    for ticker in market_values.tic.unique():\n",
    "        subset = market_values[market_values.tic==ticker]\n",
    "        current = 'na' if np.isnan(subset.mkvaltq.iloc[0]) else 'val'\n",
    "        for v in subset.mkvaltq[1:]:\n",
    "            if not np.isnan(v):\n",
    "                current = 'val'\n",
    "            elif current == 'val' and np.isnan(v):\n",
    "                bad_data.append((ticker, subset.conm.iloc[0]))\n",
    "                continue\n",
    "    return Counter(bad_data)"
   ]
  },
  {
   "cell_type": "code",
   "execution_count": 7,
   "metadata": {},
   "outputs": [
    {
     "data": {
      "text/plain": [
       "Counter({('DAN', 'DANA INC'): 1,\n",
       "         ('DG', 'DOLLAR GENERAL CORP'): 10,\n",
       "         ('GM', 'GENERAL MOTORS CO'): 1,\n",
       "         ('KHC', 'KRAFT HEINZ CO'): 10,\n",
       "         ('LZB', 'LA-Z-BOY INC'): 1,\n",
       "         ('JEF', 'JEFFERIES FINANCIAL GRP INC'): 1,\n",
       "         ('NATR', 'NATURES SUNSHINE PRODS INC'): 4,\n",
       "         ('CCL', 'CARNIVAL CORPORATION & PLC'): 5,\n",
       "         ('NBEV', 'NEWAGE INC'): 2,\n",
       "         ('SMPL', 'SIMPLY GOOD FOODS COMPANY'): 5,\n",
       "         ('PFGC', 'PERFORMANCE FOOD GROUP CO'): 32,\n",
       "         ('KDP', 'KEURIG DR PEPPER INC'): 10,\n",
       "         ('LMNR', 'LIMONEIRA CO'): 4,\n",
       "         ('BTH', 'BLYTH INC'): 1,\n",
       "         ('BEAM', 'BEAM THERAPEUTICS INC'): 1,\n",
       "         ('NHTC', 'NATURAL HEALTH TRENDS CORP'): 3,\n",
       "         ('JAKK', 'JAKKS PACIFIC INC'): 1,\n",
       "         ('TTWO', 'TAKE-TWO INTERACTIVE SFTWR'): 2,\n",
       "         ('AIPC', 'AMER ITALIAN PASTA CO  -CL A'): 3,\n",
       "         ('SVM', 'SILVERCORP METALS INC'): 4,\n",
       "         ('APTV', 'APTIV PLC'): 9,\n",
       "         ('SEED', 'ORIGIN AGRITECH LTD'): 7,\n",
       "         ('CELH', 'CELSIUS HOLDINGS INC'): 1,\n",
       "         ('CZZ', 'COSAN LTD'): 2,\n",
       "         ('NOMD', 'NOMAD FOODS LTD'): 2})"
      ]
     },
     "execution_count": 7,
     "metadata": {},
     "output_type": "execute_result"
    }
   ],
   "source": [
    "bad_data_1 = get_bad_data(market_values)\n",
    "bad_data_1"
   ]
  },
  {
   "cell_type": "code",
   "execution_count": 8,
   "metadata": {},
   "outputs": [
    {
     "name": "stderr",
     "output_type": "stream",
     "text": [
      "/Users/siddharthkantamneni/anaconda3/lib/python3.7/site-packages/pandas/core/indexing.py:543: SettingWithCopyWarning: \n",
      "A value is trying to be set on a copy of a slice from a DataFrame.\n",
      "Try using .loc[row_indexer,col_indexer] = value instead\n",
      "\n",
      "See the caveats in the documentation: http://pandas.pydata.org/pandas-docs/stable/indexing.html#indexing-view-versus-copy\n",
      "  self.obj[item] = s\n"
     ]
    }
   ],
   "source": [
    "for elem in bad_data_1.items():\n",
    "    if elem[1] == 1:\n",
    "        subset = market_values[market_values.tic == elem[0][0]]\n",
    "        ind = subset[subset.mkvaltq.isna()].index[-1]\n",
    "        if ind == subset.index[-1]:\n",
    "            subset.loc[ind, 'mkvaltq'] = subset.loc[ind-1, 'mkvaltq']\n",
    "        else:\n",
    "            subset.loc[ind, 'mkvaltq'] = (subset.loc[ind-1, 'mkvaltq'] + subset.loc[ind+1, 'mkvaltq']) / 2\n",
    "        market_values[market_values.tic == elem[0][0]] = subset"
   ]
  },
  {
   "cell_type": "code",
   "execution_count": 9,
   "metadata": {},
   "outputs": [
    {
     "data": {
      "text/plain": [
       "Counter({('DG', 'DOLLAR GENERAL CORP'): 10,\n",
       "         ('KHC', 'KRAFT HEINZ CO'): 10,\n",
       "         ('NATR', 'NATURES SUNSHINE PRODS INC'): 4,\n",
       "         ('CCL', 'CARNIVAL CORPORATION & PLC'): 5,\n",
       "         ('NBEV', 'NEWAGE INC'): 2,\n",
       "         ('SMPL', 'SIMPLY GOOD FOODS COMPANY'): 5,\n",
       "         ('PFGC', 'PERFORMANCE FOOD GROUP CO'): 32,\n",
       "         ('KDP', 'KEURIG DR PEPPER INC'): 10,\n",
       "         ('LMNR', 'LIMONEIRA CO'): 4,\n",
       "         ('NHTC', 'NATURAL HEALTH TRENDS CORP'): 3,\n",
       "         ('TTWO', 'TAKE-TWO INTERACTIVE SFTWR'): 2,\n",
       "         ('AIPC', 'AMER ITALIAN PASTA CO  -CL A'): 3,\n",
       "         ('SVM', 'SILVERCORP METALS INC'): 4,\n",
       "         ('APTV', 'APTIV PLC'): 9,\n",
       "         ('SEED', 'ORIGIN AGRITECH LTD'): 7,\n",
       "         ('CZZ', 'COSAN LTD'): 2,\n",
       "         ('NOMD', 'NOMAD FOODS LTD'): 2})"
      ]
     },
     "execution_count": 9,
     "metadata": {},
     "output_type": "execute_result"
    }
   ],
   "source": [
    "get_bad_data(market_values)"
   ]
  },
  {
   "cell_type": "code",
   "execution_count": 10,
   "metadata": {},
   "outputs": [],
   "source": [
    "last_mkt_cap = list()\n",
    "for tick in market_values.tic.unique():\n",
    "    subset = market_values[market_values.tic == tick]\n",
    "    val = subset.mkvaltq.values[-1]\n",
    "    if not np.isnan(val):\n",
    "        if val*1_000_000 < 0.2*100_000_000_000:\n",
    "#             print(f'{tick}: {val*1_000_000:,}')\n",
    "            last_mkt_cap.append(subset.mkvaltq.values[-1]*1_000_000)"
   ]
  },
  {
   "cell_type": "code",
   "execution_count": 11,
   "metadata": {},
   "outputs": [
    {
     "data": {
      "text/plain": [
       "(array([73., 50., 31., 21., 10., 12., 17.,  9., 11.,  7.,  5.,  6.,  5.,\n",
       "         3.,  1.,  5.,  0.,  3.,  1.,  1.]),\n",
       " array([2.14600000e+05, 9.50816010e+08, 1.90141742e+09, 2.85201883e+09,\n",
       "        3.80262024e+09, 4.75322165e+09, 5.70382306e+09, 6.65442447e+09,\n",
       "        7.60502588e+09, 8.55562729e+09, 9.50622870e+09, 1.04568301e+10,\n",
       "        1.14074315e+10, 1.23580329e+10, 1.33086343e+10, 1.42592358e+10,\n",
       "        1.52098372e+10, 1.61604386e+10, 1.71110400e+10, 1.80616414e+10,\n",
       "        1.90122428e+10]),\n",
       " <a list of 20 Patch objects>)"
      ]
     },
     "execution_count": 11,
     "metadata": {},
     "output_type": "execute_result"
    },
    {
     "data": {
      "image/png": "[encoded data removed]",
      "text/plain": [
       "<Figure size 1440x720 with 1 Axes>"
      ]
     },
     "metadata": {
      "needs_background": "light"
     },
     "output_type": "display_data"
    }
   ],
   "source": [
    "plt.figure(figsize=(20,10))\n",
    "plt.hist(last_mkt_cap, bins=20)"
   ]
  },
  {
   "cell_type": "code",
   "execution_count": 12,
   "metadata": {},
   "outputs": [],
   "source": [
    "month_end_prices = pd.read_csv(DATA_PATH.joinpath('month_end_prices.csv'))"
   ]
  },
  {
   "cell_type": "code",
   "execution_count": 13,
   "metadata": {},
   "outputs": [
    {
     "name": "stderr",
     "output_type": "stream",
     "text": [
      "/Users/siddharthkantamneni/anaconda3/lib/python3.7/site-packages/ipykernel_launcher.py:4: TqdmDeprecationWarning: This function will be removed in tqdm==5.0.0\n",
      "Please use `tqdm.notebook.tqdm` instead of `tqdm.tqdm_notebook`\n",
      "  after removing the cwd from sys.path.\n"
     ]
    },
    {
     "data": {
      "application/vnd.jupyter.widget-view+json": {
       "model_id": "5a9ed2a4578c48468edd7e4cc08f83a6",
       "version_major": 2,
       "version_minor": 0
      },
      "text/plain": [
       "  0%|          | 0/372 [00:00<?, ?it/s]"
      ]
     },
     "metadata": {},
     "output_type": "display_data"
    }
   ],
   "source": [
    "returns = {'small': [], 'big': []}\n",
    "tickers = {'small':[], 'big': []}\n",
    "caps = {'small':[], 'big':[]}\n",
    "for tick in tqdm_notebook(market_values.tic.unique()):\n",
    "    subset = market_values[market_values.tic == tick]\n",
    "    r = pd.DataFrame()\n",
    "    inds = month_end_prices[month_end_prices.tic == tick].index\n",
    "    r = r.append(month_end_prices.loc[inds])\n",
    "    r['return'] = r.prccm.pct_change()\n",
    "    if subset.mkvaltq.values[-1] > 20_000:\n",
    "        returns['big'].append(r['return'].mean())\n",
    "        tickers['big'].append(tick)\n",
    "        caps['big'].append(subset.mkvaltq.values[-1])\n",
    "    else:\n",
    "        returns['small'].append(r['return'].mean())\n",
    "        tickers['small'].append(tick)\n",
    "        caps['small'].append(subset.mkvaltq.values[-1])"
   ]
  },
  {
   "cell_type": "code",
   "execution_count": 14,
   "metadata": {},
   "outputs": [],
   "source": [
    "npsmall = np.array(returns['small'])\n",
    "npbig = np.array(returns['big'])"
   ]
  },
  {
   "cell_type": "code",
   "execution_count": 15,
   "metadata": {},
   "outputs": [
    {
     "name": "stderr",
     "output_type": "stream",
     "text": [
      "/Users/siddharthkantamneni/anaconda3/lib/python3.7/site-packages/ipykernel_launcher.py:1: RuntimeWarning: invalid value encountered in greater\n",
      "  \"\"\"Entry point for launching an IPython kernel.\n"
     ]
    },
    {
     "data": {
      "text/plain": [
       "(array([297]),)"
      ]
     },
     "execution_count": 15,
     "metadata": {},
     "output_type": "execute_result"
    }
   ],
   "source": [
    "np.where(npsmall > 5)"
   ]
  },
  {
   "cell_type": "code",
   "execution_count": 16,
   "metadata": {},
   "outputs": [],
   "source": [
    "npsmall = np.delete(npsmall, 297)\n",
    "del tickers['small'][297]\n",
    "del returns['small'][297]\n",
    "del caps['small'][297]"
   ]
  },
  {
   "cell_type": "code",
   "execution_count": 17,
   "metadata": {},
   "outputs": [
    {
     "name": "stderr",
     "output_type": "stream",
     "text": [
      "/Users/siddharthkantamneni/anaconda3/lib/python3.7/site-packages/ipykernel_launcher.py:1: RuntimeWarning: invalid value encountered in greater\n",
      "  \"\"\"Entry point for launching an IPython kernel.\n"
     ]
    }
   ],
   "source": [
    "for t in np.where(npsmall > 5)[0]:\n",
    "    print(tickers['small'][t])\n",
    "    print(npsmall[t])"
   ]
  },
  {
   "cell_type": "code",
   "execution_count": 18,
   "metadata": {},
   "outputs": [
    {
     "data": {
      "text/plain": [
       "0.007656894662565592"
      ]
     },
     "execution_count": 18,
     "metadata": {},
     "output_type": "execute_result"
    }
   ],
   "source": [
    "np.nanmean(npsmall) - np.nanmean(npbig)"
   ]
  },
  {
   "cell_type": "code",
   "execution_count": 19,
   "metadata": {},
   "outputs": [],
   "source": [
    "ticks = []\n",
    "capsize = []\n",
    "rets = []\n",
    "for i in range(len(tickers['small'])):\n",
    "    ticks.append(tickers['small'][i])\n",
    "    capsize.append(caps['small'][i])\n",
    "    rets.append(returns['small'][i])\n",
    "\n",
    "for i in range(len(tickers['big'])):\n",
    "    ticks.append(tickers['big'][i])\n",
    "    capsize.append(caps['big'][i])\n",
    "    rets.append(returns['big'][i])"
   ]
  },
  {
   "cell_type": "code",
   "execution_count": 20,
   "metadata": {},
   "outputs": [],
   "source": [
    "ticks = np.array(ticks)\n",
    "capsize = np.array(capsize)\n",
    "rets = np.array(rets)\n",
    "rets = np.delete(rets, np.where(np.isnan(capsize))[0])\n",
    "ticks = np.delete(ticks, np.where(np.isnan(capsize))[0])\n",
    "capsize = np.delete(capsize, np.where(np.isnan(capsize))[0])\n"
   ]
  },
  {
   "cell_type": "code",
   "execution_count": 21,
   "metadata": {},
   "outputs": [],
   "source": [
    "q = []\n",
    "for i in range(0, 100, 10):\n",
    "    mask = np.logical_and(capsize > np.percentile(capsize,i), capsize<np.percentile(capsize,i+10))\n",
    "    rr = rets[mask]\n",
    "    q.append(np.mean(rr))"
   ]
  },
  {
   "cell_type": "code",
   "execution_count": 22,
   "metadata": {},
   "outputs": [
    {
     "data": {
      "text/plain": [
       "<BarContainer object of 10 artists>"
      ]
     },
     "execution_count": 22,
     "metadata": {},
     "output_type": "execute_result"
    },
    {
     "data": {
      "image/png": "[encoded data removed]",
      "text/plain": [
       "<Figure size 432x288 with 1 Axes>"
      ]
     },
     "metadata": {
      "needs_background": "light"
     },
     "output_type": "display_data"
    }
   ],
   "source": [
    "plt.bar(x = range(0,100,10), height = q)"
   ]
  }
 ],
 "metadata": {
  "kernelspec": {
   "display_name": "Python 3",
   "language": "python",
   "name": "python3"
  },
  "language_info": {
   "codemirror_mode": {
    "name": "ipython",
    "version": 3
   },
   "file_extension": ".py",
   "mimetype": "text/x-python",
   "name": "python",
   "nbconvert_exporter": "python",
   "pygments_lexer": "ipython3",
   "version": "3.7.3"
  }
 },
 "nbformat": 4,
 "nbformat_minor": 5
}